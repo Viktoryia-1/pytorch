{
 "cells": [
  {
   "cell_type": "code",
   "execution_count": null,
   "id": "2ca6eff6",
   "metadata": {},
   "outputs": [],
   "source": [
    "# Код из вебинара не работает\n",
    "# Вот ошибка:\n",
    "# 28         output = model(X, lengths)\n",
    "#      29         loss = criterion(output, y)\n",
    "#      30         loss_accumed += loss\n",
    "\n",
    "        \n",
    "        \n",
    "# ~/Documents/gb/env/lib/python3.9/site-packages/torch/nn/modules/module.py in _call_impl(self, *input, **kwargs)\n",
    "#    1108         if not (self._backward_hooks or self._forward_hooks or self._forward_pre_hooks or _global_backward_hooks\n",
    "#    1109                 or _global_forward_hooks or _global_forward_pre_hooks):\n",
    "# -> 1110             return forward_call(*input, **kwargs)\n",
    "#    1111         # Do not call functions when jit is used\n",
    "#    1112         full_backward_hooks, non_full_backward_hooks = [], []\n",
    "\n",
    "# TypeError: forward() takes 2 positional arguments but 3 were given\n",
    "    \n",
    "# Полагаю из-за передачи параметра lenght в model() вместе с Х\n",
    "# Я его убрала, и чудо-код начал выдавать тренировочную и тестовую ошибку равную 0\n",
    "# в этом датасете то-же самое\n",
    "# изменила функцию ошибки и активацию на выходе, ошибка появилась, но она не изменяется от \n",
    "# эпохе к эпохе (или растет на тесте).\n",
    "# пыталась еще добавить сверток и maxpool слоев - 2 сети с отличиями в методе forward\n",
    "# результат работает точно так-же, только ошибка выше.\n",
    "# чуть лучше вариант с MSELoss но эта ошибка не подходит к задаче\n",
    "# В общем, сплошное расстройство. В теме, увы, не разобралась."
   ]
  },
  {
   "cell_type": "code",
   "execution_count": 47,
   "id": "54734cd8",
   "metadata": {},
   "outputs": [],
   "source": [
    "import torch\n",
    "import torchvision\n",
    "from torch import nn\n",
    "import pandas as pd\n",
    "import numpy as np\n",
    "import matplotlib.pyplot as plt\n",
    "from tqdm import tqdm\n",
    "from sklearn.model_selection import train_test_split\n",
    "from sklearn.preprocessing import StandardScaler\n",
    "import math\n",
    "\n",
    "from string import punctuation\n",
    "from stop_words import get_stop_words\n",
    "from pymorphy2 import MorphAnalyzer\n",
    "from collections import Counter\n",
    "import re\n",
    "import random\n",
    "from functools  import lru_cache\n",
    "from FeedBack_5 import FeedBackData"
   ]
  },
  {
   "cell_type": "code",
   "execution_count": 2,
   "id": "e20fd63b",
   "metadata": {},
   "outputs": [],
   "source": [
    "#pip install xlrd"
   ]
  },
  {
   "cell_type": "code",
   "execution_count": 3,
   "id": "ee16c9e9",
   "metadata": {},
   "outputs": [],
   "source": [
    "data = pd.read_excel(\"отзывы за лето.xls\", engine='xlrd')"
   ]
  },
  {
   "cell_type": "code",
   "execution_count": 4,
   "id": "b46d48ce",
   "metadata": {},
   "outputs": [
    {
     "data": {
      "text/plain": [
       "array(['It just works!',\n",
       "       'В целом удобноное приложение...из минусов хотят слишком большой доступ к персональным данным в телефоне,приходится пользоваться в ограниченном режиме',\n",
       "       'Отлично все', ..., 'Доволен', 'Песопаснасть, рут ни нужын',\n",
       "       'Сбербанк бомбовая компания на сегодняшний день. Лидер банков.!! Держитесь в том же духе.'],\n",
       "      dtype=object)"
      ]
     },
     "execution_count": 4,
     "metadata": {},
     "output_type": "execute_result"
    }
   ],
   "source": [
    "data.Content.values"
   ]
  },
  {
   "cell_type": "code",
   "execution_count": 5,
   "id": "963c240f",
   "metadata": {},
   "outputs": [
    {
     "data": {
      "text/html": [
       "<div>\n",
       "<style scoped>\n",
       "    .dataframe tbody tr th:only-of-type {\n",
       "        vertical-align: middle;\n",
       "    }\n",
       "\n",
       "    .dataframe tbody tr th {\n",
       "        vertical-align: top;\n",
       "    }\n",
       "\n",
       "    .dataframe thead th {\n",
       "        text-align: right;\n",
       "    }\n",
       "</style>\n",
       "<table border=\"1\" class=\"dataframe\">\n",
       "  <thead>\n",
       "    <tr style=\"text-align: right;\">\n",
       "      <th></th>\n",
       "      <th>Rating</th>\n",
       "      <th>Content</th>\n",
       "      <th>Date</th>\n",
       "    </tr>\n",
       "  </thead>\n",
       "  <tbody>\n",
       "    <tr>\n",
       "      <th>0</th>\n",
       "      <td>5</td>\n",
       "      <td>It just works!</td>\n",
       "      <td>2017-08-14</td>\n",
       "    </tr>\n",
       "    <tr>\n",
       "      <th>1</th>\n",
       "      <td>4</td>\n",
       "      <td>В целом удобноное приложение...из минусов хотя...</td>\n",
       "      <td>2017-08-14</td>\n",
       "    </tr>\n",
       "    <tr>\n",
       "      <th>2</th>\n",
       "      <td>5</td>\n",
       "      <td>Отлично все</td>\n",
       "      <td>2017-08-14</td>\n",
       "    </tr>\n",
       "    <tr>\n",
       "      <th>3</th>\n",
       "      <td>5</td>\n",
       "      <td>Стал зависать на 1% работы антивируса. Дальше ...</td>\n",
       "      <td>2017-08-14</td>\n",
       "    </tr>\n",
       "    <tr>\n",
       "      <th>4</th>\n",
       "      <td>5</td>\n",
       "      <td>Очень удобно, работает быстро.</td>\n",
       "      <td>2017-08-14</td>\n",
       "    </tr>\n",
       "  </tbody>\n",
       "</table>\n",
       "</div>"
      ],
      "text/plain": [
       "   Rating                                            Content        Date\n",
       "0       5                                     It just works!  2017-08-14\n",
       "1       4  В целом удобноное приложение...из минусов хотя...  2017-08-14\n",
       "2       5                                        Отлично все  2017-08-14\n",
       "3       5  Стал зависать на 1% работы антивируса. Дальше ...  2017-08-14\n",
       "4       5                     Очень удобно, работает быстро.  2017-08-14"
      ]
     },
     "execution_count": 5,
     "metadata": {},
     "output_type": "execute_result"
    }
   ],
   "source": [
    "data.head()"
   ]
  },
  {
   "cell_type": "code",
   "execution_count": 6,
   "id": "967a0d4e",
   "metadata": {},
   "outputs": [
    {
     "data": {
      "text/plain": [
       "20659"
      ]
     },
     "execution_count": 6,
     "metadata": {},
     "output_type": "execute_result"
    }
   ],
   "source": [
    "len(data)"
   ]
  },
  {
   "cell_type": "code",
   "execution_count": 7,
   "id": "edd9e792",
   "metadata": {},
   "outputs": [],
   "source": [
    "data = data.dropna()"
   ]
  },
  {
   "cell_type": "code",
   "execution_count": 8,
   "id": "473daf6d",
   "metadata": {},
   "outputs": [],
   "source": [
    "data = data.loc[data[\"Rating\"] != 3]\n",
    "data['Rating'] = np.where(data['Rating'] >= 4, 1, 0 )"
   ]
  },
  {
   "cell_type": "code",
   "execution_count": 9,
   "id": "aa6d993b",
   "metadata": {},
   "outputs": [
    {
     "data": {
      "text/html": [
       "<div>\n",
       "<style scoped>\n",
       "    .dataframe tbody tr th:only-of-type {\n",
       "        vertical-align: middle;\n",
       "    }\n",
       "\n",
       "    .dataframe tbody tr th {\n",
       "        vertical-align: top;\n",
       "    }\n",
       "\n",
       "    .dataframe thead th {\n",
       "        text-align: right;\n",
       "    }\n",
       "</style>\n",
       "<table border=\"1\" class=\"dataframe\">\n",
       "  <thead>\n",
       "    <tr style=\"text-align: right;\">\n",
       "      <th></th>\n",
       "      <th>Rating</th>\n",
       "      <th>Content</th>\n",
       "      <th>Date</th>\n",
       "    </tr>\n",
       "  </thead>\n",
       "  <tbody>\n",
       "    <tr>\n",
       "      <th>20654</th>\n",
       "      <td>0</td>\n",
       "      <td>Ну и шляпа,с роот правами бесполезная прога,ра...</td>\n",
       "      <td>2017-06-01</td>\n",
       "    </tr>\n",
       "    <tr>\n",
       "      <th>20655</th>\n",
       "      <td>1</td>\n",
       "      <td>Ок</td>\n",
       "      <td>2017-06-01</td>\n",
       "    </tr>\n",
       "    <tr>\n",
       "      <th>20656</th>\n",
       "      <td>1</td>\n",
       "      <td>Доволен</td>\n",
       "      <td>2017-06-01</td>\n",
       "    </tr>\n",
       "    <tr>\n",
       "      <th>20657</th>\n",
       "      <td>0</td>\n",
       "      <td>Песопаснасть, рут ни нужын</td>\n",
       "      <td>2017-06-01</td>\n",
       "    </tr>\n",
       "    <tr>\n",
       "      <th>20658</th>\n",
       "      <td>1</td>\n",
       "      <td>Сбербанк бомбовая компания на сегодняшний день...</td>\n",
       "      <td>2017-06-01</td>\n",
       "    </tr>\n",
       "  </tbody>\n",
       "</table>\n",
       "</div>"
      ],
      "text/plain": [
       "       Rating                                            Content        Date\n",
       "20654       0  Ну и шляпа,с роот правами бесполезная прога,ра...  2017-06-01\n",
       "20655       1                                                 Ок  2017-06-01\n",
       "20656       1                                            Доволен  2017-06-01\n",
       "20657       0                         Песопаснасть, рут ни нужын  2017-06-01\n",
       "20658       1  Сбербанк бомбовая компания на сегодняшний день...  2017-06-01"
      ]
     },
     "execution_count": 9,
     "metadata": {},
     "output_type": "execute_result"
    }
   ],
   "source": [
    "data.tail()"
   ]
  },
  {
   "cell_type": "code",
   "execution_count": 10,
   "id": "abbf1e62",
   "metadata": {},
   "outputs": [
    {
     "name": "stdout",
     "output_type": "stream",
     "text": [
      "<class 'pandas.core.frame.DataFrame'>\n",
      "Int64Index: 19745 entries, 0 to 20658\n",
      "Data columns (total 3 columns):\n",
      " #   Column   Non-Null Count  Dtype \n",
      "---  ------   --------------  ----- \n",
      " 0   Rating   19745 non-null  int64 \n",
      " 1   Content  19745 non-null  object\n",
      " 2   Date     19745 non-null  object\n",
      "dtypes: int64(1), object(2)\n",
      "memory usage: 617.0+ KB\n"
     ]
    }
   ],
   "source": [
    "data.info()"
   ]
  },
  {
   "cell_type": "code",
   "execution_count": 11,
   "id": "6942b25e",
   "metadata": {},
   "outputs": [],
   "source": [
    "sw = get_stop_words('ru')\n",
    "ex = set(punctuation)\n",
    "morpher = MorphAnalyzer()"
   ]
  },
  {
   "cell_type": "code",
   "execution_count": 12,
   "id": "09ac0794",
   "metadata": {},
   "outputs": [],
   "source": [
    "def feedback_preprocessing(text_data):\n",
    "    text_data = str(text_data).lower()\n",
    "    text_data = ''.join(i for i in text_data if i not in ex)\n",
    "    text_data = re.sub('не\\s*', 'не', text_data)\n",
    "    text_data = ' '.join([morpher.parse(word)[0].normal_form for word in text_data.split() if word not in sw])\n",
    "    return text_data\n",
    "    "
   ]
  },
  {
   "cell_type": "code",
   "execution_count": 13,
   "id": "32020330",
   "metadata": {},
   "outputs": [],
   "source": [
    "data['Content'] = data['Content'].apply(feedback_preprocessing)"
   ]
  },
  {
   "cell_type": "code",
   "execution_count": 14,
   "id": "a5b86e4b",
   "metadata": {},
   "outputs": [
    {
     "data": {
      "text/plain": [
       "array(['it just works',\n",
       "       'целое удобноной приложениеиз минус хотеть большой доступ персональный данные телефонеприходиться пользоваться ограниченный режим',\n",
       "       'отлично', ..., 'довольный', 'песопаснастя рута нужын',\n",
       "       'сбербанк бомбовый компания сегодняшний лидер банк держаться дух'],\n",
       "      dtype=object)"
      ]
     },
     "execution_count": 14,
     "metadata": {},
     "output_type": "execute_result"
    }
   ],
   "source": [
    "data.Content.values"
   ]
  },
  {
   "cell_type": "code",
   "execution_count": 15,
   "id": "fb7bf579",
   "metadata": {},
   "outputs": [],
   "source": [
    "data_words = data.Content.values\n",
    "counter = Counter()\n",
    "for sentense in data_words:\n",
    "    counter.update(sentense.split())\n"
   ]
  },
  {
   "cell_type": "code",
   "execution_count": 16,
   "id": "1423adc7",
   "metadata": {},
   "outputs": [
    {
     "name": "stdout",
     "output_type": "stream",
     "text": [
      "Number of words before: 11637\n"
     ]
    }
   ],
   "source": [
    "print(f'Number of words before: {len(counter.keys())}')"
   ]
  },
  {
   "cell_type": "code",
   "execution_count": 17,
   "id": "238c78ad",
   "metadata": {},
   "outputs": [],
   "source": [
    "for word, count in list(counter.items()):\n",
    "    if count < 10:\n",
    "        del counter[word]"
   ]
  },
  {
   "cell_type": "code",
   "execution_count": 18,
   "id": "06390e09",
   "metadata": {},
   "outputs": [
    {
     "name": "stdout",
     "output_type": "stream",
     "text": [
      "Number of words after: 1100\n"
     ]
    }
   ],
   "source": [
    "print(f'Number of words after: {len(counter.keys())}')"
   ]
  },
  {
   "cell_type": "code",
   "execution_count": 19,
   "id": "e1e6fb7a",
   "metadata": {},
   "outputs": [],
   "source": [
    "vocabindex = {\"\":0, \"UNK\":1}\n",
    "words = [\"\", \"UNK\"]\n",
    "\n",
    "for word in counter:\n",
    "    vocabindex[word] = len(words)\n",
    "    words.append(word)"
   ]
  },
  {
   "cell_type": "code",
   "execution_count": 20,
   "id": "51ac3c1b",
   "metadata": {},
   "outputs": [],
   "source": [
    "seed = 0\n",
    "\n",
    "random.seed(seed)\n",
    "np.random.seed(seed)\n",
    "torch.manual_seed(seed)\n",
    "torch.cuda.manual_seed(seed)\n",
    "torch.backends.cudnn.deterministic = True"
   ]
  },
  {
   "cell_type": "code",
   "execution_count": 21,
   "id": "029fecc3",
   "metadata": {},
   "outputs": [],
   "source": [
    "# class FeedBackData(torch.utils.data.Dataset):\n",
    "    \n",
    "#     def __init__(self, txt, labels, vocabulary, user_len):\n",
    "#         self.txt = txt\n",
    "#         self.labels = labels\n",
    "#         self.vocabulary = vocabulary\n",
    "#         self.user_len = user_len\n",
    "    \n",
    "#     def __len__(self):\n",
    "#         return len(self.txt)\n",
    "        \n",
    "        \n",
    "#     @lru_cache(50000)\n",
    "#     def encode_sentence(self, txt):\n",
    "#         encoded = np.zeros(self.user_len, dtype=int)\n",
    "#         num_encoder = np.array([self.vocabulary.get(word, self.vocabulary[\"UNK\"]) for word in self.txt])\n",
    "#         final_len = min(user_len, len(num_encoder))\n",
    "#         encoded[:final_len] = num_encoder[:final_len]\n",
    "#         return encoded, final_len\n",
    "        \n",
    "#     def __getitem__(self, ind):\n",
    "#         encoded, final_len = self.encode_sentence(self.txt[ind])\n",
    "#         return torch.from_numpy(encoded.astype(np.int32)), float(self.labels[ind]), final_len"
   ]
  },
  {
   "cell_type": "code",
   "execution_count": 22,
   "id": "85995bdf",
   "metadata": {},
   "outputs": [
    {
     "data": {
      "text/plain": [
       "(14808, 14808)"
      ]
     },
     "execution_count": 22,
     "metadata": {},
     "output_type": "execute_result"
    }
   ],
   "source": [
    "X, y = data['Content'].values, data['Rating'].values\n",
    "X_train, X_test, y_train, y_test = train_test_split(X, y, random_state=42, test_size=0.25)\n",
    "len(X_train), len(y_train)"
   ]
  },
  {
   "cell_type": "code",
   "execution_count": 23,
   "id": "9ca4a981",
   "metadata": {},
   "outputs": [
    {
     "data": {
      "text/plain": [
       "array([1, 1, 1, ..., 1, 0, 0])"
      ]
     },
     "execution_count": 23,
     "metadata": {},
     "output_type": "execute_result"
    }
   ],
   "source": [
    "y_train"
   ]
  },
  {
   "cell_type": "code",
   "execution_count": 24,
   "id": "79001c6c",
   "metadata": {},
   "outputs": [],
   "source": [
    "data['Date'] = pd.to_datetime(data['Date'])"
   ]
  },
  {
   "cell_type": "code",
   "execution_count": 25,
   "id": "7418938b",
   "metadata": {},
   "outputs": [
    {
     "data": {
      "text/plain": [
       "Timedelta('74 days 00:00:00')"
      ]
     },
     "execution_count": 25,
     "metadata": {},
     "output_type": "execute_result"
    }
   ],
   "source": [
    "data['Date'].max() - data['Date'].min()"
   ]
  },
  {
   "cell_type": "code",
   "execution_count": 26,
   "id": "836d328b",
   "metadata": {},
   "outputs": [],
   "source": [
    "content_len = []\n",
    "for i in data['Content']:    \n",
    "    i_len = len(i)\n",
    "    content_len.append(i_len)\n",
    "    \n",
    "data['Content_len'] = content_len    "
   ]
  },
  {
   "cell_type": "code",
   "execution_count": 27,
   "id": "9f503763",
   "metadata": {},
   "outputs": [
    {
     "data": {
      "text/plain": [
       "(39.135224107368956, 19.0, 45.0)"
      ]
     },
     "execution_count": 27,
     "metadata": {},
     "output_type": "execute_result"
    }
   ],
   "source": [
    "data['Content_len'].mean(), data['Content_len'].median(), data['Content_len'].quantile(q=0.75) "
   ]
  },
  {
   "cell_type": "code",
   "execution_count": 28,
   "id": "5f74dc5c",
   "metadata": {},
   "outputs": [
    {
     "data": {
      "text/plain": [
       "<AxesSubplot:>"
      ]
     },
     "execution_count": 28,
     "metadata": {},
     "output_type": "execute_result"
    },
    {
     "data": {
      "image/png": "[encoded data removed]",
      "text/plain": [
       "<Figure size 432x288 with 1 Axes>"
      ]
     },
     "metadata": {
      "needs_background": "light"
     },
     "output_type": "display_data"
    }
   ],
   "source": [
    "data['Content_len'].hist(bins=20)"
   ]
  },
  {
   "cell_type": "code",
   "execution_count": 29,
   "id": "986b38d9",
   "metadata": {},
   "outputs": [
    {
     "name": "stdout",
     "output_type": "stream",
     "text": [
      "45\n"
     ]
    }
   ],
   "source": [
    "user_len = round(data['Content_len'].quantile(q=0.75))\n",
    "print(user_len)"
   ]
  },
  {
   "cell_type": "code",
   "execution_count": 30,
   "id": "cdb370d5",
   "metadata": {},
   "outputs": [],
   "source": [
    "final_train = FeedBackData(X_train, y_train, vocabindex, user_len +1)\n",
    "final_test = FeedBackData(X_test, y_test, vocabindex, user_len +1)"
   ]
  },
  {
   "cell_type": "code",
   "execution_count": 31,
   "id": "8c782a49",
   "metadata": {},
   "outputs": [],
   "source": [
    "train_loader = torch.utils.data.DataLoader(final_train,\n",
    "                                          batch_size=200,\n",
    "                                          shuffle=True,\n",
    "                                          num_workers=2,\n",
    "                                          drop_last=True)\n",
    "test_loader = torch.utils.data.DataLoader(final_test,\n",
    "                                         batch_size=200,\n",
    "                                         shuffle=False,\n",
    "                                         num_workers=1,\n",
    "                                         drop_last=True)"
   ]
  },
  {
   "cell_type": "code",
   "execution_count": 240,
   "id": "888038c0",
   "metadata": {},
   "outputs": [],
   "source": [
    "class MyNet(nn.Module):\n",
    "    \n",
    "    def __init__(self, vocab_size, embedding_dim=128, out_channel=128, num_classes=1):\n",
    "        super(MyNet, self).__init__()\n",
    "        self.vocab_size = vocab_size\n",
    "        self.embedding = nn.Embedding(vocab_size, embedding_dim)\n",
    "        self.conv1 = nn.Conv1d(embedding_dim, out_channel, kernel_size=3)\n",
    "        self.relu = nn.ReLU()\n",
    "        self.lin = nn.Linear(out_channel, num_classes)\n",
    "        self.sigmoid = nn.Sigmoid()\n",
    "        self.soft = nn.Softmax(dim=1)\n",
    "    \n",
    "    def forward(self, x):\n",
    "        x = self.embedding(x)\n",
    "        x = x.permute(0, 2, 1)\n",
    "        x = self.conv1(x)\n",
    "        x = self.relu(x)\n",
    "        x = torch.max(x, axis=2).values\n",
    "        x = self.lin(x)\n",
    "        x = self.sigmoid(x)\n",
    "        #x = self.soft(x)\n",
    "        return x\n",
    "    \n",
    "    def predict(self, x):\n",
    "        x = self.embedding(x)\n",
    "        x = x.permute(0, 2, 1)\n",
    "        x = self.conv1(x)\n",
    "        x = self.relu(x)\n",
    "        x = torch.max(x, axis=2).values\n",
    "        x = self.lin(x)\n",
    "        #x = self.soft(x)\n",
    "        x = self.sigmoid(x)\n",
    "        return x\n",
    "        "
   ]
  },
  {
   "cell_type": "code",
   "execution_count": 241,
   "id": "709318d8",
   "metadata": {},
   "outputs": [],
   "source": [
    "net = MyNet(len(vocabindex))\n",
    "optimizer = torch.optim.Adam(net.parameters(),lr=0.001)\n",
    "criterion = nn.BCELoss()"
   ]
  },
  {
   "cell_type": "code",
   "execution_count": 53,
   "id": "63ab0d78",
   "metadata": {},
   "outputs": [],
   "source": [
    "def train_test(train_loader, test_loader, net, optimizer, criterion, num_epochs):\n",
    "    \n",
    "    for epoch in tqdm(range(num_epochs)):\n",
    "        net.train()\n",
    "        epoch_loss = 0\n",
    "        loader_len = len(train_loader)\n",
    "        for ind, data in enumerate(train_loader, 0):\n",
    "            text, label, lenght = data[0], data[1], data[2]\n",
    "            text = text.long()\n",
    "            label = label.view(-1, 1)\n",
    "            optimizer.zero_grad()\n",
    "            \n",
    "            prediction = net(text)\n",
    "            loss = criterion(prediction.float(), label.float())\n",
    "            loss.backward()\n",
    "            epoch_loss += loss.item()\n",
    "            optimizer.step()\n",
    "          \n",
    "        \n",
    "        net.eval()\n",
    "        eval_loss = 0\n",
    "        for X, y, test_lenght in test_loader:\n",
    "            X = X.long()\n",
    "            y = y.view(-1, 1)\n",
    "            preds = net(X)\n",
    "            test_loss = criterion(preds.float(), y.float())\n",
    "            eval_loss += test_loss.item()\n",
    "        print(f'Epoch {epoch + 1}, Train_loss {epoch_loss}')     \n",
    "        print(f'Epoch {epoch + 1}, Test_loss {eval_loss}')     "
   ]
  },
  {
   "cell_type": "code",
   "execution_count": 243,
   "id": "bae2201b",
   "metadata": {},
   "outputs": [
    {
     "name": "stderr",
     "output_type": "stream",
     "text": [
      " 20%|█████████                                    | 1/5 [00:27<01:48, 27.16s/it]"
     ]
    },
    {
     "name": "stdout",
     "output_type": "stream",
     "text": [
      "Epoch 1, Train_loss 21.372144177556038\n",
      "Epoch 1, Test_loss 5.717549026012421\n"
     ]
    },
    {
     "name": "stderr",
     "output_type": "stream",
     "text": [
      "\r",
      " 40%|██████████████████                           | 2/5 [00:53<01:20, 26.84s/it]"
     ]
    },
    {
     "name": "stdout",
     "output_type": "stream",
     "text": [
      "Epoch 2, Train_loss 15.203357517719269\n",
      "Epoch 2, Test_loss 5.0455277264118195\n"
     ]
    },
    {
     "name": "stderr",
     "output_type": "stream",
     "text": [
      "\r",
      " 60%|███████████████████████████                  | 3/5 [01:21<00:54, 27.15s/it]"
     ]
    },
    {
     "name": "stdout",
     "output_type": "stream",
     "text": [
      "Epoch 3, Train_loss 12.707930162549019\n",
      "Epoch 3, Test_loss 4.742950394749641\n"
     ]
    },
    {
     "name": "stderr",
     "output_type": "stream",
     "text": [
      "\r",
      " 80%|████████████████████████████████████         | 4/5 [01:48<00:27, 27.18s/it]"
     ]
    },
    {
     "name": "stdout",
     "output_type": "stream",
     "text": [
      "Epoch 4, Train_loss 10.72528937458992\n",
      "Epoch 4, Test_loss 4.6386109590530396\n"
     ]
    },
    {
     "name": "stderr",
     "output_type": "stream",
     "text": [
      "100%|█████████████████████████████████████████████| 5/5 [02:15<00:00, 27.16s/it]"
     ]
    },
    {
     "name": "stdout",
     "output_type": "stream",
     "text": [
      "Epoch 5, Train_loss 9.272441945970058\n",
      "Epoch 5, Test_loss 5.159739464521408\n"
     ]
    },
    {
     "name": "stderr",
     "output_type": "stream",
     "text": [
      "\n"
     ]
    }
   ],
   "source": [
    "train_test(train_loader, test_loader, net, optimizer, criterion, 4)"
   ]
  },
  {
   "cell_type": "code",
   "execution_count": 136,
   "id": "9fb81095",
   "metadata": {},
   "outputs": [],
   "source": [
    "class ImprovedNet(nn.Module):\n",
    "    \n",
    "    \n",
    "\n",
    "    def __init__(self, vocab_size, embedding_dim, output_channels,\n",
    "                 num_classes, kernel_sizes, stride=1, binary=False):\n",
    "        super(ImprovedNet, self).__init__()\n",
    "        \n",
    "        self.vocab_size = vocab_size\n",
    "        self.embedding_dim = embedding_dim\n",
    "        self.output_channels = output_channels\n",
    "        self.num_classes = num_classes\n",
    "        self.relu = nn.ReLU()\n",
    "        if binary:\n",
    "            self.finish = nn.Sigmoid()\n",
    "        else:\n",
    "            self.finish = nn.Softmax(dim=1)\n",
    "            \n",
    "        # kernel_sizes    \n",
    "        self.kernel1 = kernel_sizes[0]\n",
    "        self.kernel2 = kernel_sizes[1]\n",
    "        self.kernel3 = kernel_sizes[2]\n",
    "        self.stride = stride\n",
    "            \n",
    "        self.embedding = nn.Embedding(num_embeddings=self.vocab_size,\n",
    "                                     embedding_dim=self.embedding_dim)    \n",
    "        \n",
    "        # convolutional_layers\n",
    "        self.conv1 = nn.Conv1d(in_channels=self.embedding_dim,\n",
    "                              out_channels=self.output_channels,\n",
    "                              kernel_size=self.kernel1)\n",
    "        self.conv2 = nn.Conv1d(in_channels=self.output_channels,\n",
    "                              out_channels=self.output_channels,\n",
    "                              kernel_size=self.kernel2)\n",
    "        self.conv3 = nn.Conv1d(in_channels=self.output_channels,\n",
    "                              out_channels=self.output_channels,\n",
    "                              kernel_size=self.kernel3)\n",
    "                              \n",
    "        \n",
    "        # maxpooling layers\n",
    "        self.maxpool1 = nn.MaxPool1d(kernel_size=self.kernel1, stride=self.stride)\n",
    "        self.maxpool2 = nn.MaxPool1d(kernel_size=self.kernel2, stride=self.stride)\n",
    "        self.maxpool3 = nn.MaxPool1d(kernel_size=self.kernel3, stride=self.stride)\n",
    "    \n",
    "        self.lin = nn.Linear(in_features=self.output_channels, out_features=num_classes)      \n",
    "    \n",
    "    \n",
    "    def forward(self, x):\n",
    "        x = self.embedding(x)\n",
    "        x = x.permute(0, 2, 1)      \n",
    "        x1 = self.relu(self.conv1(x))\n",
    "        x1 = self.maxpool1(x1)\n",
    "        x2 = self.relu(self.conv2(x))\n",
    "        x2 = self.maxpool2(x2)\n",
    "        x3 = self.relu(self.conv3(x))\n",
    "        x3 = self.maxpool3(x3)\n",
    "        final = torch.cat((x1, x2, x3), dim=2)\n",
    "        final = torch.max(final, axis=2).values\n",
    "        final = self.lin(final)\n",
    "        return self.finish(final)\n",
    "        \n",
    "    def predict(self, x):\n",
    "        x = self.embedding(x)\n",
    "        x = x.permute(0, 2, 1)\n",
    "        x1 = self.relu(self.conv1(x))\n",
    "        x1 = self.maxpool1(x1)\n",
    "        x2 = self.relu(self.conv2(x))\n",
    "        x2 = self.maxpool2(x2)\n",
    "        x3 = self.relu(self.conv3(x))\n",
    "        x3 = self.maxpool3(x3)\n",
    "        final = torch.cat((x1, x2, x3), dim=2)      \n",
    "        final = torch.max(final, axis=2).values\n",
    "        final = self.lin(final)\n",
    "        return self.finish(final)\n",
    "        "
   ]
  },
  {
   "cell_type": "code",
   "execution_count": 137,
   "id": "15559cf1",
   "metadata": {},
   "outputs": [],
   "source": [
    "newnet = ImprovedNet(len(vocabindex), 200, 200, kernel_sizes=[3,4,5],num_classes=1, binary=True)\n",
    "newoptimizer = torch.optim.Adam(newnet.parameters(), lr=0.01)\n",
    "newcriterion = nn.BCELoss()"
   ]
  },
  {
   "cell_type": "code",
   "execution_count": 138,
   "id": "a757aaa9",
   "metadata": {},
   "outputs": [
    {
     "name": "stdout",
     "output_type": "stream",
     "text": [
      "ImprovedNet(\n",
      "  (relu): ReLU()\n",
      "  (finish): Sigmoid()\n",
      "  (embedding): Embedding(1102, 200)\n",
      "  (conv1): Conv1d(200, 200, kernel_size=(3,), stride=(1,))\n",
      "  (conv2): Conv1d(200, 200, kernel_size=(4,), stride=(1,))\n",
      "  (conv3): Conv1d(200, 200, kernel_size=(5,), stride=(1,))\n",
      "  (maxpool1): MaxPool1d(kernel_size=3, stride=1, padding=0, dilation=1, ceil_mode=False)\n",
      "  (maxpool2): MaxPool1d(kernel_size=4, stride=1, padding=0, dilation=1, ceil_mode=False)\n",
      "  (maxpool3): MaxPool1d(kernel_size=5, stride=1, padding=0, dilation=1, ceil_mode=False)\n",
      "  (lin): Linear(in_features=200, out_features=1, bias=True)\n",
      ")\n"
     ]
    }
   ],
   "source": [
    "print(newnet)"
   ]
  },
  {
   "cell_type": "code",
   "execution_count": 139,
   "id": "d672a094",
   "metadata": {},
   "outputs": [
    {
     "name": "stderr",
     "output_type": "stream",
     "text": [
      " 20%|████████▊                                   | 1/5 [01:44<06:58, 104.66s/it]"
     ]
    },
    {
     "name": "stdout",
     "output_type": "stream",
     "text": [
      "Epoch 1, Train_loss 1126.8047289848328\n",
      "Epoch 1, Test_loss 356.5\n"
     ]
    },
    {
     "name": "stderr",
     "output_type": "stream",
     "text": [
      "\r",
      " 40%|█████████████████▌                          | 2/5 [03:50<05:50, 116.98s/it]"
     ]
    },
    {
     "name": "stdout",
     "output_type": "stream",
     "text": [
      "Epoch 2, Train_loss 1142.0\n",
      "Epoch 2, Test_loss 356.5\n"
     ]
    },
    {
     "name": "stderr",
     "output_type": "stream",
     "text": [
      "\r",
      " 60%|██████████████████████████▍                 | 3/5 [05:42<03:49, 114.69s/it]"
     ]
    },
    {
     "name": "stdout",
     "output_type": "stream",
     "text": [
      "Epoch 3, Train_loss 1143.5\n",
      "Epoch 3, Test_loss 356.5\n"
     ]
    },
    {
     "name": "stderr",
     "output_type": "stream",
     "text": [
      "\r",
      " 80%|███████████████████████████████████▏        | 4/5 [07:51<02:00, 120.63s/it]"
     ]
    },
    {
     "name": "stdout",
     "output_type": "stream",
     "text": [
      "Epoch 4, Train_loss 1144.5\n",
      "Epoch 4, Test_loss 356.5\n"
     ]
    },
    {
     "name": "stderr",
     "output_type": "stream",
     "text": [
      "100%|████████████████████████████████████████████| 5/5 [09:45<00:00, 117.07s/it]"
     ]
    },
    {
     "name": "stdout",
     "output_type": "stream",
     "text": [
      "Epoch 5, Train_loss 1144.0\n",
      "Epoch 5, Test_loss 356.5\n"
     ]
    },
    {
     "name": "stderr",
     "output_type": "stream",
     "text": [
      "\n"
     ]
    }
   ],
   "source": [
    "train_test(train_loader, test_loader, newnet, newoptimizer, newcriterion, 5)"
   ]
  },
  {
   "cell_type": "code",
   "execution_count": 162,
   "id": "0aec92c8",
   "metadata": {},
   "outputs": [],
   "source": [
    "class ImprovedNet(nn.Module): \n",
    "\n",
    "    def __init__(self, vocab_size, embedding_dim, output_channels,\n",
    "                 num_classes, kernel_sizes, stride=1, binary=False):\n",
    "        super(ImprovedNet, self).__init__()\n",
    "        \n",
    "        self.vocab_size = vocab_size\n",
    "        self.embedding_dim = embedding_dim\n",
    "        self.output_channels = output_channels\n",
    "        self.num_classes = num_classes\n",
    "        self.relu = nn.ReLU()\n",
    "        if binary:\n",
    "            self.finish = nn.Sigmoid()\n",
    "        else:\n",
    "            self.finish = nn.Softmax(dim=1)\n",
    "            \n",
    "        # kernel_sizes    \n",
    "        self.kernel1 = kernel_sizes[0]\n",
    "        self.kernel2 = kernel_sizes[1]\n",
    "        self.kernel3 = kernel_sizes[2]\n",
    "        self.stride = stride\n",
    "            \n",
    "        self.embedding = nn.Embedding(num_embeddings=self.vocab_size,\n",
    "                                     embedding_dim=self.embedding_dim)    \n",
    "        \n",
    "        # convolutional_layers\n",
    "        self.conv1 = nn.Conv1d(in_channels=self.embedding_dim,\n",
    "                              out_channels=self.output_channels,\n",
    "                              kernel_size=self.kernel1)\n",
    "        self.conv2 = nn.Conv1d(in_channels=self.output_channels,\n",
    "                              out_channels=self.output_channels,\n",
    "                              kernel_size=self.kernel2)\n",
    "        self.conv3 = nn.Conv1d(in_channels=self.output_channels,\n",
    "                              out_channels=self.output_channels,\n",
    "                              kernel_size=self.kernel3)\n",
    "                              \n",
    "        \n",
    "        # maxpooling layers\n",
    "        self.maxpool1 = nn.MaxPool1d(kernel_size=self.kernel1, stride=self.stride)\n",
    "        self.maxpool2 = nn.MaxPool1d(kernel_size=self.kernel2, stride=self.stride)\n",
    "        self.maxpool3 = nn.MaxPool1d(kernel_size=self.kernel3, stride=self.stride)\n",
    "    \n",
    "        self.lin = nn.Linear(in_features=self.output_channels, out_features=num_classes)      \n",
    "    \n",
    "    \n",
    "    def forward(self, x):\n",
    "        x = self.embedding(x)\n",
    "        x = x.permute(0, 2, 1)      \n",
    "        x = self.relu(self.conv1(x))\n",
    "        x = self.maxpool1(x)\n",
    "        x = self.relu(self.conv2(x))\n",
    "        x = self.maxpool2(x)\n",
    "        x = self.relu(self.conv3(x))\n",
    "        x = self.maxpool3(x)\n",
    "        final = torch.max(x, axis=2).values\n",
    "        final = self.lin(final)\n",
    "        return final\n",
    "        \n",
    "    def predict(self, x):\n",
    "        x = self.embedding(x)\n",
    "        x = x.permute(0, 2, 1)\n",
    "        x = self.relu(self.conv1(x))\n",
    "        x = self.maxpool1(x)\n",
    "        x = self.relu(self.conv2(x))\n",
    "        x = self.maxpool2(x)\n",
    "        x = self.relu(self.conv3(x))\n",
    "        x = self.maxpool3(x)    \n",
    "        final = torch.max(x, axis=2).values\n",
    "        final = self.lin(final)\n",
    "        return final"
   ]
  },
  {
   "cell_type": "code",
   "execution_count": 163,
   "id": "0dc356d6",
   "metadata": {},
   "outputs": [],
   "source": [
    "newnet = ImprovedNet(len(vocabindex), 200, 200, kernel_sizes=[3,4,5],num_classes=1, binary=True)\n",
    "newoptimizer = torch.optim.Adam(newnet.parameters(), lr=0.01)\n",
    "newcriterion = nn.MSELoss()"
   ]
  },
  {
   "cell_type": "code",
   "execution_count": 164,
   "id": "948695b1",
   "metadata": {},
   "outputs": [
    {
     "name": "stderr",
     "output_type": "stream",
     "text": [
      " 20%|█████████                                    | 1/5 [01:31<06:07, 91.76s/it]"
     ]
    },
    {
     "name": "stdout",
     "output_type": "stream",
     "text": [
      "Epoch 1, Train_loss 58202.92558220774\n",
      "Epoch 1, Test_loss 2.817018151283264\n"
     ]
    },
    {
     "name": "stderr",
     "output_type": "stream",
     "text": [
      "\r",
      " 40%|██████████████████                           | 2/5 [02:59<04:27, 89.10s/it]"
     ]
    },
    {
     "name": "stdout",
     "output_type": "stream",
     "text": [
      "Epoch 2, Train_loss 7.6933912336826324\n",
      "Epoch 2, Test_loss 2.4028851240873337\n"
     ]
    },
    {
     "name": "stderr",
     "output_type": "stream",
     "text": [
      "\r",
      " 60%|███████████████████████████                  | 3/5 [04:27<02:57, 88.68s/it]"
     ]
    },
    {
     "name": "stdout",
     "output_type": "stream",
     "text": [
      "Epoch 3, Train_loss 6.871077559888363\n",
      "Epoch 3, Test_loss 2.423503704369068\n"
     ]
    },
    {
     "name": "stderr",
     "output_type": "stream",
     "text": [
      "\r",
      " 80%|████████████████████████████████████         | 4/5 [05:59<01:29, 89.92s/it]"
     ]
    },
    {
     "name": "stdout",
     "output_type": "stream",
     "text": [
      "Epoch 4, Train_loss 6.360571701079607\n",
      "Epoch 4, Test_loss 2.3421196788549423\n"
     ]
    },
    {
     "name": "stderr",
     "output_type": "stream",
     "text": [
      "100%|█████████████████████████████████████████████| 5/5 [07:24<00:00, 88.95s/it]"
     ]
    },
    {
     "name": "stdout",
     "output_type": "stream",
     "text": [
      "Epoch 5, Train_loss 5.517770428210497\n",
      "Epoch 5, Test_loss 2.3561914190649986\n"
     ]
    },
    {
     "name": "stderr",
     "output_type": "stream",
     "text": [
      "\n"
     ]
    }
   ],
   "source": [
    "train_test(train_loader, test_loader, newnet, newoptimizer, newcriterion, 5)"
   ]
  },
  {
   "cell_type": "code",
   "execution_count": null,
   "id": "94988286",
   "metadata": {},
   "outputs": [],
   "source": []
  }
 ],
 "metadata": {
  "kernelspec": {
   "display_name": "Python 3 (ipykernel)",
   "language": "python",
   "name": "python3"
  },
  "language_info": {
   "codemirror_mode": {
    "name": "ipython",
    "version": 3
   },
   "file_extension": ".py",
   "mimetype": "text/x-python",
   "name": "python",
   "nbconvert_exporter": "python",
   "pygments_lexer": "ipython3",
   "version": "3.9.2"
  }
 },
 "nbformat": 4,
 "nbformat_minor": 5
}
