{
 "cells": [
  {
   "cell_type": "code",
   "execution_count": 2,
   "id": "55376faa",
   "metadata": {
    "id": "55376faa"
   },
   "outputs": [],
   "source": [
    "import torch\n",
    "from torch import nn\n",
    "import torchvision\n",
    "import pandas as pd\n",
    "import numpy as np\n",
    "import matplotlib.pyplot as plt\n",
    "from sklearn.model_selection import train_test_split\n",
    "import os"
   ]
  },
  {
   "cell_type": "code",
   "execution_count": 571,
   "id": "8f2c6e0e",
   "metadata": {
    "id": "8f2c6e0e"
   },
   "outputs": [],
   "source": [
    "# Как было сказано ранее, GAN обучается воспроизводить реальные данные. Поэтому Вам предлагается обучить генератор создавать точки, которые будут лежать на графике функции\n",
    "# 𝑦 = 𝑠𝑖𝑛(x)/x − x/10\n",
    "# При выполнении данного задания структура GAN остается той же, но Вам нужно:\n",
    "# ● Сгенерировать настоящие данные\n",
    "# ● Изменить архитектуру дискриминатора и генератора\n",
    "# ● Без графиков домашку не принимаю"
   ]
  },
  {
   "cell_type": "code",
   "execution_count": 572,
   "id": "80a54744",
   "metadata": {
    "id": "80a54744"
   },
   "outputs": [],
   "source": [
    "# plot function\n",
    "# x = np.linspace(-5, 5, 50)\n",
    "# y = np.sin(x) / x - x / 10\n",
    "# plt.figure(figsize=(8, 5))\n",
    "# plt.xlabel('x')\n",
    "# plt.ylabel('y')\n",
    "# plt.title('Function sin(x) / x - x / 10 vizualization')\n",
    "# plt.plot(x, y, c='blue', linestyle='dashed');\n"
   ]
  },
  {
   "cell_type": "code",
   "execution_count": 3,
   "id": "8b69d0e2",
   "metadata": {
    "id": "8b69d0e2"
   },
   "outputs": [],
   "source": [
    "def plot_function(x, y, save=False, save_name=None, type_plot='plot', fig_s=(8, 5)):\n",
    "    plt.figure(figsize=fig_s)\n",
    "    plt.xlabel('x')\n",
    "    plt.ylabel('y')\n",
    "    plt.title('Function sin(x) / x - x / 10 vizualization')\n",
    "    if type_plot == 'plot':\n",
    "      plt.plot(x, y, c='blue', linestyle='dashed');\n",
    "    else:\n",
    "      plt.scatter(x, y, c='red')     \n",
    "    if save:\n",
    "        return plt.savefig(save_name)\n",
    "            "
   ]
  },
  {
   "cell_type": "code",
   "execution_count": 574,
   "id": "bff65c41",
   "metadata": {
    "colab": {
     "base_uri": "https://localhost:8080/"
    },
    "id": "bff65c41",
    "outputId": "f2553db8-d087-4c80-b3c5-9c7f39913d70"
   },
   "outputs": [
    {
     "data": {
      "text/plain": [
       "device(type='cpu')"
      ]
     },
     "execution_count": 574,
     "metadata": {},
     "output_type": "execute_result"
    }
   ],
   "source": [
    "is_cuda = torch.cuda.is_available()\n",
    "device = torch.device('cuda') if is_cuda else torch.device('cpu')\n",
    "device"
   ]
  },
  {
   "cell_type": "code",
   "execution_count": 4,
   "id": "4482c727",
   "metadata": {
    "id": "4482c727"
   },
   "outputs": [],
   "source": [
    "# genereate data\n",
    "\n",
    "#real\n",
    "real_x = np.linspace(-10, 10, 5000)\n",
    "real_y = torch.from_numpy(np.sin(real_x)/real_x - real_x/10)\n",
    "real_x = torch.from_numpy(np.linspace(-10, 10, 5000))"
   ]
  },
  {
   "cell_type": "code",
   "execution_count": 576,
   "id": "23dde20c",
   "metadata": {
    "colab": {
     "base_uri": "https://localhost:8080/"
    },
    "id": "23dde20c",
    "outputId": "a96b170c-dc8a-433f-f1ac-8bc273294e7a"
   },
   "outputs": [
    {
     "data": {
      "text/plain": [
       "(5000, 5000)"
      ]
     },
     "execution_count": 576,
     "metadata": {},
     "output_type": "execute_result"
    }
   ],
   "source": [
    "len(real_x), len(real_y)"
   ]
  },
  {
   "cell_type": "code",
   "execution_count": 577,
   "id": "6097b72a",
   "metadata": {
    "colab": {
     "base_uri": "https://localhost:8080/"
    },
    "id": "6097b72a",
    "outputId": "f4cbe2cd-f05f-4164-a8e4-88fd29d5e8a7"
   },
   "outputs": [
    {
     "data": {
      "text/plain": [
       "(torch.Tensor, torch.Tensor)"
      ]
     },
     "execution_count": 577,
     "metadata": {},
     "output_type": "execute_result"
    }
   ],
   "source": [
    "type(real_x), type(real_y)"
   ]
  },
  {
   "cell_type": "code",
   "execution_count": 578,
   "id": "Q_KLiAfuSQFn",
   "metadata": {
    "colab": {
     "base_uri": "https://localhost:8080/",
     "height": 350
    },
    "id": "Q_KLiAfuSQFn",
    "outputId": "24adede4-f04a-4e0e-8288-8e34a303b0ad"
   },
   "outputs": [
    {
     "data": {
      "image/png": "[encoded data removed]",
      "text/plain": [
       "<Figure size 576x360 with 1 Axes>"
      ]
     },
     "metadata": {
      "needs_background": "light"
     },
     "output_type": "display_data"
    }
   ],
   "source": [
    "plot_function(real_x, real_y)"
   ]
  },
  {
   "cell_type": "code",
   "execution_count": 579,
   "id": "c16ab3d7",
   "metadata": {
    "id": "c16ab3d7"
   },
   "outputs": [],
   "source": [
    "# preprocess data\n",
    "class FunctionData(nn.Module):\n",
    "    def __init__(self, x, y):\n",
    "        super().__init__()\n",
    "        self.x = x\n",
    "        self.y = y\n",
    "        \n",
    "        \n",
    "    def __len__(self):\n",
    "        return len(self.x)\n",
    "    \n",
    "    \n",
    "    def __getitem__(self, idx):      \n",
    "        return self.x[idx], self.y[idx]"
   ]
  },
  {
   "cell_type": "code",
   "execution_count": 580,
   "id": "f88e80eb",
   "metadata": {
    "id": "f88e80eb"
   },
   "outputs": [],
   "source": [
    "real = FunctionData(real_x, real_y)"
   ]
  },
  {
   "cell_type": "code",
   "execution_count": 581,
   "id": "693fdf30",
   "metadata": {
    "id": "693fdf30"
   },
   "outputs": [],
   "source": [
    "BATCH_SIZE = 50\n",
    "train = torch.utils.data.DataLoader(real, batch_size=BATCH_SIZE)                                  "
   ]
  },
  {
   "cell_type": "code",
   "execution_count": 582,
   "id": "a2271088",
   "metadata": {
    "id": "a2271088"
   },
   "outputs": [],
   "source": [
    "class Gen(nn.Module):\n",
    "    def __init__(self):\n",
    "        super().__init__()\n",
    "        self.activation = nn.ModuleDict([\n",
    "            ['L-Relu', nn.LeakyReLU()],\n",
    "            ['Relu', nn.ReLU()] ,\n",
    "            ['Tanh', nn.Tanh()]\n",
    "        ])\n",
    "        \n",
    "        def block(in_features, out_features, normalize=True, activation='Tanh'):\n",
    "            layers = [nn.Linear(in_features, out_features)]\n",
    "        \n",
    "            if normalize:\n",
    "                layers.append(nn.BatchNorm1d(out_features))\n",
    "            layers.append(self.activation[activation])\n",
    "        \n",
    "            return layers\n",
    "    \n",
    "        self.model = nn.Sequential(\n",
    "        *block(latent_dim, 50, normalize=False),\n",
    "        *block(50, 100),\n",
    "        *block(100, 200),\n",
    "        nn.Linear(200, 1)\n",
    "        )              \n",
    "         \n",
    "    def forward(self, x):\n",
    "        x = self.model(x)\n",
    "        return(x)"
   ]
  },
  {
   "cell_type": "code",
   "execution_count": 583,
   "id": "b4107742",
   "metadata": {
    "id": "b4107742"
   },
   "outputs": [],
   "source": [
    "class Dis(nn.Module):\n",
    "    \n",
    "    def __init__(self):\n",
    "        super().__init__()\n",
    "        \n",
    "        self.model = nn.Sequential(\n",
    "        nn.Linear(1, 200),\n",
    "        nn.Tanh(),\n",
    "        nn.Linear(200, 100),\n",
    "        nn.Tanh(),\n",
    "        nn.Linear(100, 1),\n",
    "        nn.Sigmoid()              \n",
    "        )\n",
    "        \n",
    "    def forward(self, x):\n",
    "        return self.model(x)\n",
    "        "
   ]
  },
  {
   "cell_type": "code",
   "execution_count": 608,
   "id": "e038c4c5",
   "metadata": {
    "id": "e038c4c5"
   },
   "outputs": [],
   "source": [
    "# Parameters\n",
    "EPOCHS_NUM = 850\n",
    "latent_dim = 1"
   ]
  },
  {
   "cell_type": "code",
   "execution_count": 609,
   "id": "55128eae",
   "metadata": {
    "id": "55128eae"
   },
   "outputs": [],
   "source": [
    "gen = Gen()\n",
    "dis = Dis()"
   ]
  },
  {
   "cell_type": "code",
   "execution_count": 610,
   "id": "2af4653c",
   "metadata": {
    "id": "2af4653c"
   },
   "outputs": [],
   "source": [
    "# set optimizers and loss\n",
    "lr = 0.0005 # шаг обучения\n",
    "\n",
    "b1 = 0.5 # гиперпараметр для оптимайзера Adam\n",
    "b2 = 0.999 # гиперпараметр для оптимайзера Adam\n",
    "optimizer_g = torch.optim.Adam(gen.parameters(), lr=lr, betas=(b1, b2))\n",
    "optimizer_d = torch.optim.Adam(dis.parameters(), lr=lr, betas=(b1, b2))\n",
    "loss = torch.nn.BCELoss()"
   ]
  },
  {
   "cell_type": "code",
   "execution_count": 611,
   "id": "76ae14ed",
   "metadata": {
    "colab": {
     "base_uri": "https://localhost:8080/"
    },
    "id": "76ae14ed",
    "outputId": "fb4df2b4-7608-4bc6-e1ac-1a8e8c4a3a52"
   },
   "outputs": [
    {
     "data": {
      "text/plain": [
       "100"
      ]
     },
     "execution_count": 611,
     "metadata": {},
     "output_type": "execute_result"
    }
   ],
   "source": [
    "len(train)"
   ]
  },
  {
   "cell_type": "code",
   "execution_count": 612,
   "id": "6c8fa655",
   "metadata": {
    "colab": {
     "base_uri": "https://localhost:8080/"
    },
    "id": "6c8fa655",
    "outputId": "2e897f65-cd2c-4829-a925-bbbf6ff27428"
   },
   "outputs": [
    {
     "name": "stdout",
     "output_type": "stream",
     "text": [
      "Epoch50 generator loss 0.7021475193701653\n",
      "Epoch50 discriminator loss 0.6843079328536987\n",
      "Epoch100 generator loss 0.691284236251906\n",
      "Epoch100 discriminator loss 0.6926966309547424\n",
      "Epoch150 generator loss 0.691192338295663\n",
      "Epoch150 discriminator loss 0.6931033134460449\n",
      "Epoch200 generator loss 0.690878078617915\n",
      "Epoch200 discriminator loss 0.6931433081626892\n",
      "Epoch250 generator loss 0.6555806927654557\n",
      "Epoch250 discriminator loss 0.6931470632553101\n",
      "Epoch300 generator loss 0.5775830428322464\n",
      "Epoch300 discriminator loss 0.6931471824645996\n",
      "Epoch350 generator loss 0.7009262550868641\n",
      "Epoch350 discriminator loss 0.6931471824645996\n",
      "Epoch400 generator loss 0.693149929530135\n",
      "Epoch400 discriminator loss 0.6931471824645996\n",
      "Epoch450 generator loss 0.6931490521475442\n",
      "Epoch450 discriminator loss 0.6931471228599548\n",
      "Epoch500 generator loss 0.6931488494913917\n",
      "Epoch500 discriminator loss 0.6931471824645996\n",
      "Epoch550 generator loss 0.6931488494913917\n",
      "Epoch550 discriminator loss 0.6931471824645996\n",
      "Epoch600 generator loss 0.6931489687008873\n",
      "Epoch600 discriminator loss 0.6931471228599548\n",
      "Epoch650 generator loss 0.6931323987172929\n",
      "Epoch650 discriminator loss 0.6931471824645996\n",
      "Epoch700 generator loss 0.6931318050639829\n",
      "Epoch700 discriminator loss 0.6931471228599548\n",
      "Epoch750 generator loss 0.6931476573972172\n",
      "Epoch750 discriminator loss 0.6931471824645996\n",
      "Epoch800 generator loss 0.6931683380484744\n",
      "Epoch800 discriminator loss 0.6931471824645996\n"
     ]
    }
   ],
   "source": [
    "# Train\n",
    "for i in range(EPOCHS_NUM):\n",
    "    for X, Y in train:\n",
    "        # Train generator\n",
    "       \n",
    "        # generate fake data\n",
    "        fake_x = np.random.uniform(-10, 10, BATCH_SIZE).astype('float32')\n",
    "        #fake_label = torch.from_numpy(np.sin(fake_x)/fake_x - fake_x/10).unsqueeze(1)\n",
    "        fake_x = torch.from_numpy(fake_x).unsqueeze(1)\n",
    "        fake_label = torch.zeros(fake_x.shape)\n",
    "        valid_label = torch.ones(fake_x.shape)\n",
    "        \n",
    "        optimizer_g.zero_grad()\n",
    "        \n",
    "        fake_y = gen(fake_x)\n",
    "        # fake y in discriminator\n",
    "        validity = dis(fake_y)\n",
    "        \n",
    "        gen_loss = loss(validity.double(), valid_label.double())\n",
    "        gen_loss.backward()\n",
    "        optimizer_g.step()\n",
    "        \n",
    "        # Train discriminator\n",
    "        \n",
    "        optimizer_d.zero_grad()\n",
    "        \n",
    "        real_preds = dis(X.reshape(BATCH_SIZE, 1).float())\n",
    "        real_loss = loss(real_preds.float(), valid_label.float())\n",
    "        \n",
    "        fake_preds = dis(fake_x)\n",
    "        fake_loss = loss(fake_preds, fake_label)\n",
    "        \n",
    "        dis_loss = (real_loss + fake_loss) / 2\n",
    "        dis_loss.backward()\n",
    "        optimizer_d.step()\n",
    "    if i != 0 and i % 50 == 0:\n",
    "      print(f'Epoch{i} generator loss {gen_loss}')\n",
    "      print(f'Epoch{i} discriminator loss {dis_loss}')     \n",
    "            \n",
    "        \n",
    "        \n",
    "        "
   ]
  },
  {
   "cell_type": "code",
   "execution_count": 613,
   "id": "gWKk3V7mLmMy",
   "metadata": {
    "id": "gWKk3V7mLmMy"
   },
   "outputs": [],
   "source": [
    "test = np.linspace(-10, 10, 500).reshape(500, 1)\n",
    "np.random.shuffle(test)\n",
    "test = torch.from_numpy(test).float()\n",
    "predictions = gen(test)"
   ]
  },
  {
   "cell_type": "code",
   "execution_count": 614,
   "id": "LBLwgt9VaRsy",
   "metadata": {
    "colab": {
     "base_uri": "https://localhost:8080/",
     "height": 458
    },
    "id": "LBLwgt9VaRsy",
    "outputId": "bb5702c7-3084-4cf8-9bb1-49e2872a8229"
   },
   "outputs": [
    {
     "data": {
      "image/png": "[encoded data removed]",
      "text/plain": [
       "<Figure size 720x504 with 1 Axes>"
      ]
     },
     "metadata": {
      "needs_background": "light"
     },
     "output_type": "display_data"
    }
   ],
   "source": [
    "# 1) Интервал по y каждый раз разный, а в реальных данных от -1 до 1. Это нормально?\n",
    "# ошибка особо не меняется, но меньше чем на 800 эпох не получается ничего похожего, а больше - переобучение\n",
    "# пробовала разный lr, но толку мало. Ошибку не могу найти, где она?\n",
    "# 2) При равных параметрах и количество эпох получаются очень разные результаты, почему?\n",
    "plot_function(test.detach().numpy(), predictions.detach().numpy(), type_plot=\"scatter\", fig_s=(10, 7), save=True, save_name='825 epochs.png' )"
   ]
  },
  {
   "cell_type": "code",
   "execution_count": 5,
   "id": "HPjLQ1D2amRC",
   "metadata": {
    "colab": {
     "base_uri": "https://localhost:8080/",
     "height": 350
    },
    "id": "HPjLQ1D2amRC",
    "outputId": "574c32f8-fa7d-4c20-a906-df6eb4641df8"
   },
   "outputs": [
    {
     "data": {
      "image/png": "[encoded data removed]",
      "text/plain": [
       "<Figure size 576x360 with 1 Axes>"
      ]
     },
     "metadata": {
      "needs_background": "light"
     },
     "output_type": "display_data"
    }
   ],
   "source": [
    "# real data\n",
    "plot_function(real_x, real_y)"
   ]
  },
  {
   "cell_type": "code",
   "execution_count": 22,
   "id": "74dfae2d",
   "metadata": {},
   "outputs": [
    {
     "data": {
      "image/png": "[encoded data removed]",
      "text/plain": [
       "<IPython.core.display.Image object>"
      ]
     },
     "execution_count": 22,
     "metadata": {},
     "output_type": "execute_result"
    }
   ],
   "source": [
    "# 840 эпох: интервал уже похож на правду, но не особо похоже на реальные данные\n",
    "from IPython.display import Image\n",
    "Image(\"g_840_epochs.png\")"
   ]
  },
  {
   "cell_type": "code",
   "execution_count": 23,
   "id": "db18e34f",
   "metadata": {},
   "outputs": [
    {
     "data": {
      "image/png": "[encoded data removed]",
      "text/plain": [
       "<IPython.core.display.Image object>"
      ]
     },
     "execution_count": 23,
     "metadata": {},
     "output_type": "execute_result"
    }
   ],
   "source": [
    "# lr=0.0002 Эпох примерно 840. Больше похоже на правду, но интервал фу-фу-фу\n",
    "# и если перезапустить обучение будет другой результат\n",
    "Image(\"Unknown-7.png\")"
   ]
  },
  {
   "cell_type": "code",
   "execution_count": null,
   "id": "f9ccd516",
   "metadata": {},
   "outputs": [],
   "source": []
  }
 ],
 "metadata": {
  "colab": {
   "collapsed_sections": [],
   "name": "Untitled.ipynb",
   "provenance": []
  },
  "kernelspec": {
   "display_name": "Python 3 (ipykernel)",
   "language": "python",
   "name": "python3"
  },
  "language_info": {
   "codemirror_mode": {
    "name": "ipython",
    "version": 3
   },
   "file_extension": ".py",
   "mimetype": "text/x-python",
   "name": "python",
   "nbconvert_exporter": "python",
   "pygments_lexer": "ipython3",
   "version": "3.9.2"
  }
 },
 "nbformat": 4,
 "nbformat_minor": 5
}
