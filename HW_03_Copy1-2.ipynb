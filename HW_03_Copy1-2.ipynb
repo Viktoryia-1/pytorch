{
  "cells": [
    {
      "cell_type": "markdown",
      "metadata": {
        "id": "0xLnjAvIt_-o"
      },
      "source": [
        "# Попрактикуемся с тем, что изучили\n",
        "\n",
        "Будем практиковаться на датасете:\n",
        "https://www.kaggle.com/c/avito-demand-prediction\n",
        "\n",
        "Ваша задача:\n",
        "1. Создать Dataset для загрузки данных (используем только числовые данные)\n",
        "2. Обернуть его в Dataloader\n",
        "3. Написать архитектуру сети, которая предсказывает число показов на основании числовых данных (вы всегда можете нагенерить дополнительных факторов). Сеть должна включать BatchNorm слои и Dropout (или НЕ включать, но нужно обосновать)\n",
        "4. Учить будем на функцию потерь с кагла (log RMSE) - нужно её реализовать\n",
        "5. Сравните сходимость Adam, RMSProp и SGD, сделайте вывод по качеству работы модели\n",
        "\n",
        "train-test разделение нужно сделать с помощью sklearn random_state=13, test_size = 0.25\n",
        "\n",
        "Вопросы? в личку @Kinetikm"
      ]
    },
    {
      "cell_type": "code",
      "execution_count": 57,
      "metadata": {
        "id": "4J86yxZZt_-v"
      },
      "outputs": [],
      "source": [
        "import pandas as pd\n",
        "import numpy as np\n",
        "import matplotlib.pyplot as plt\n",
        "import torch\n",
        "import torchvision\n",
        "from torch import nn\n",
        "from sklearn.model_selection import train_test_split\n",
        "from sklearn.preprocessing import LabelEncoder, MinMaxScaler"
      ]
    },
    {
      "cell_type": "markdown",
      "metadata": {
        "id": "eQo39kRGt_-x"
      },
      "source": [
        "## Создать Dataset для загрузки данных (используем только числовые данные)"
      ]
    },
    {
      "cell_type": "code",
      "execution_count": null,
      "metadata": {
        "id": "Ectxmfgyt_-y"
      },
      "outputs": [],
      "source": [
        "df = pd.read_csv('train.csv')"
      ]
    },
    {
      "cell_type": "code",
      "execution_count": null,
      "metadata": {
        "id": "WaMwHsHGt_-1",
        "outputId": "d7b039e6-a0e9-4ee2-9153-16840bcb59f4"
      },
      "outputs": [
        {
          "name": "stdout",
          "output_type": "stream",
          "text": [
            "<class 'pandas.core.frame.DataFrame'>\n",
            "RangeIndex: 1503424 entries, 0 to 1503423\n",
            "Data columns (total 18 columns):\n",
            " #   Column                Non-Null Count    Dtype  \n",
            "---  ------                --------------    -----  \n",
            " 0   item_id               1503424 non-null  object \n",
            " 1   user_id               1503424 non-null  object \n",
            " 2   region                1503424 non-null  object \n",
            " 3   city                  1503424 non-null  object \n",
            " 4   parent_category_name  1503424 non-null  object \n",
            " 5   category_name         1503424 non-null  object \n",
            " 6   param_1               1441848 non-null  object \n",
            " 7   param_2               848882 non-null   object \n",
            " 8   param_3               640859 non-null   object \n",
            " 9   title                 1503424 non-null  object \n",
            " 10  description           1387148 non-null  object \n",
            " 11  price                 1418062 non-null  float64\n",
            " 12  item_seq_number       1503424 non-null  int64  \n",
            " 13  activation_date       1503424 non-null  object \n",
            " 14  user_type             1503424 non-null  object \n",
            " 15  image                 1390836 non-null  object \n",
            " 16  image_top_1           1390836 non-null  float64\n",
            " 17  deal_probability      1503424 non-null  float64\n",
            "dtypes: float64(3), int64(1), object(14)\n",
            "memory usage: 206.5+ MB\n"
          ]
        }
      ],
      "source": [
        "df.info()"
      ]
    },
    {
      "cell_type": "code",
      "execution_count": null,
      "metadata": {
        "id": "GgfgZ7wQt_-1"
      },
      "outputs": [],
      "source": [
        "missings = (len(df) - df.count()) / len(df)"
      ]
    },
    {
      "cell_type": "code",
      "execution_count": null,
      "metadata": {
        "id": "qTUvwDL6t_-2",
        "outputId": "90f1b1d5-9361-4429-8bfc-5eb4ef10129f"
      },
      "outputs": [
        {
          "data": {
            "text/plain": [
              "item_id                 0.000000\n",
              "user_id                 0.000000\n",
              "region                  0.000000\n",
              "city                    0.000000\n",
              "parent_category_name    0.000000\n",
              "category_name           0.000000\n",
              "param_1                 0.040957\n",
              "param_2                 0.435368\n",
              "param_3                 0.573734\n",
              "title                   0.000000\n",
              "description             0.077341\n",
              "price                   0.056778\n",
              "item_seq_number         0.000000\n",
              "activation_date         0.000000\n",
              "user_type               0.000000\n",
              "image                   0.074888\n",
              "image_top_1             0.074888\n",
              "deal_probability        0.000000\n",
              "dtype: float64"
            ]
          },
          "execution_count": 23,
          "metadata": {},
          "output_type": "execute_result"
        }
      ],
      "source": [
        "missings"
      ]
    },
    {
      "cell_type": "code",
      "execution_count": null,
      "metadata": {
        "id": "fN9mmY4Gt_-5"
      },
      "outputs": [],
      "source": [
        "from torch.nn.functional import normalize\n",
        "# Если я правильно поняла задание, почти всю предобработку, включая генерацию признаков,\n",
        "# нужно было уложить в Dataset. На занятии предлагалось положить генерацию в  getitem,\n",
        "#  и  у меня получилась ситуация, в которой признаки генерируются все сразу только при \n",
        "#  вызове любой строки по индексу. То есть я вызываю просто custumhead (аналог df.head,\n",
        "#  т.к. после обработки датасетом все стандартные функции не работают), он возвращает мне \n",
        "#  первые пять строк датасета без изменений, но если вызвать что-то вроде df[0], \n",
        "#  признаки тут-же появляются, и после повторного вызова customhead  они уже видны.\n",
        "\n",
        "# Я не стала это оставлять в основном датасете, но в конце ноутбука пример из датасета periods\n",
        "#  1) Вопрос первый - так и должно быть или у меня руки растут не из того места?\n",
        "#  2) Вопрос второй - если все функции перестают работать после Dataset, как проводить EDA?\n",
        "#  или в принципе это не нужно делать, и метод предназначен для обработки изображений, а не \n",
        "#  csv? Или сначала EDA, потом разбиение train_test_split и переписать Dataset чтобы принимал\n",
        "#  уже готовые X_train, y_train и т.д?"
      ]
    },
    {
      "cell_type": "code",
      "execution_count": null,
      "metadata": {
        "id": "Zrg4apZzt_-5"
      },
      "outputs": [],
      "source": [
        "class NewAvito(torch.utils.data.Dataset):\n",
        "    \n",
        "    def __init__(self, csv_file):\n",
        "        self.df = pd.read_csv(csv_file)\n",
        "        \n",
        "    def __len__(self):\n",
        "        return len(self.df)\n",
        "    \n",
        "    def __getitem__(self, ind):\n",
        "        val = self.df.iloc[ind]\n",
        "        return val\n",
        "    \n",
        "    def featuregenerator(self):\n",
        "        self.df['description'] = self.df['description'].astype(str)\n",
        "        len_list = []\n",
        "        for i in self.df['description']:\n",
        "            len_list.append(len(i))\n",
        "\n",
        "        self.df['len_description'] = len_list\n",
        "\n",
        "        parent_count = self.df['parent_category_name'].value_counts().reset_index().\\\n",
        "        rename(columns={'index': 'parent_category_name','parent_category_name': 'parent_category_name_count' })\n",
        "        self.df = self.df.merge(parent_count, on=['parent_category_name'], how='left')\n",
        "        self.df['parent_category_name_count_%'] = (self.df['parent_category_name_count'] / len(self.df['parent_category_name'])) * 100\n",
        "\n",
        "\n",
        "        category_count = self.df['category_name'].value_counts().reset_index().\\\n",
        "        rename(columns={'index':'category_name', 'category_name':'category_count'})\n",
        "        self.df = self.df.merge(category_count, on=['category_name'], how='left')\n",
        "        self.df['category_count_%'] = (self.df['category_count'] / len(self.df['category_name'])) * 100\n",
        "\n",
        "        region_count = self.df['region'].value_counts().reset_index().\\\n",
        "        rename(columns={'index':'region', 'region':'region_count'})\n",
        "        self.df = self.df.merge(region_count, on=['region'], how='left')\n",
        "        self.df['region_count_%'] = (self.df['region_count'] / len(self.df['region'])) * 100\n",
        "        \n",
        "        city_count = self.df['city'].value_counts().reset_index().\\\n",
        "        rename(columns={'index':'city', 'city':'city_count'})\n",
        "        self.df = self.df.merge(city_count, on=['city'], how='left')\n",
        "        self.df['city_count_%'] = (self.df['city_count'] / len(self.df['city'])) * 100\n",
        "        return self.df\n",
        "        \n",
        "        # Как обработать эти признаки не знала, благо помогли товарищи по курсу\n",
        "    def customencoder(self):\n",
        "        encode_columns = ['activation_date', 'user_type', 'param_1']\n",
        "        for el in encode_columns:\n",
        "            self.df[el] = LabelEncoder().fit_transform(self.df[el])\n",
        "        return self.df    \n",
        "     \n",
        "         #Очень много выбросила из данных - в title, image энкодер не поможет,\n",
        "         #а как еще их обработать не знаю, но очень хотела-бы знать)\n",
        "    def customdrop(self):\n",
        "        self.df.drop(['item_id', 'user_id', 'region', 'city', 'parent_category_name',\n",
        "       'category_name','param_2', 'param_3','title', 'description','image', 'parent_category_name_count',\n",
        "       'category_count','region_count', 'city_count'],axis=1,inplace=True)\n",
        "        self.df.dropna(subset=['param_1','image_top_1', 'price'], inplace=True)\n",
        "        return self.df\n",
        "    \n",
        "    \n",
        "    def customsplit(self):\n",
        "        y = self.df['deal_probability']\n",
        "        X = self.df.drop(['deal_probability'], axis=1)   \n",
        "        return torch.FloatTensor(X.values), torch.FloatTensor(y.values)\n",
        "    \n",
        "    \n",
        "    def customhead(self, n):\n",
        "        if n < 51: \n",
        "            head_val = self.df.iloc[0 : n]\n",
        "            return head_val\n",
        "        else:\n",
        "            raise RuntimeError\n",
        "            "
      ]
    },
    {
      "cell_type": "code",
      "execution_count": null,
      "metadata": {
        "id": "jv64qr_Ht_-7"
      },
      "outputs": [],
      "source": [
        "new_df = NewAvito('/content/drive/MyDrive/train.csv')"
      ]
    },
    {
      "cell_type": "code",
      "execution_count": null,
      "metadata": {
        "id": "WUg_R0Ift_-8"
      },
      "outputs": [],
      "source": [
        "start = len(new_df)"
      ]
    },
    {
      "cell_type": "code",
      "execution_count": null,
      "metadata": {
        "colab": {
          "base_uri": "https://localhost:8080/",
          "height": 483
        },
        "id": "8t_MS55Zt_-9",
        "outputId": "2d71d1cb-fdb2-4087-baff-5f665734fe10"
      },
      "outputs": [
        {
          "output_type": "execute_result",
          "data": {
            "text/plain": [
              "         param_1    price  item_seq_number  activation_date  user_type  \\\n",
              "0            248    400.0                2               13          1   \n",
              "1            121   3000.0               19               11          1   \n",
              "2             83   4000.0                9                5          1   \n",
              "3             37   2200.0              286               10          0   \n",
              "4            277  40000.0                3                1          1   \n",
              "...          ...      ...              ...              ...        ...   \n",
              "1503418      125    500.0               10                2          1   \n",
              "1503419      104    300.0                7                5          1   \n",
              "1503420      268    200.0                1               13          1   \n",
              "1503422      104    350.0               33                7          1   \n",
              "1503423      133   1500.0               18                6          1   \n",
              "\n",
              "         image_top_1  deal_probability  len_description  \\\n",
              "0             1008.0           0.12789               58   \n",
              "1              692.0           0.00000               41   \n",
              "2             3032.0           0.43177               99   \n",
              "3              796.0           0.80323               22   \n",
              "4             2264.0           0.20797               24   \n",
              "...              ...               ...              ...   \n",
              "1503418        387.0           0.12869               92   \n",
              "1503419         88.0           0.25019                3   \n",
              "1503420       1191.0           0.60000              250   \n",
              "1503422         87.0           0.00000               42   \n",
              "1503423        979.0           0.00000              948   \n",
              "\n",
              "         parent_category_name_count_%  category_count_%  region_count_%  \\\n",
              "0                           46.402279          6.634655        6.283989   \n",
              "1                           11.894382          4.325792        4.882655   \n",
              "2                           11.507599          1.798295        5.986003   \n",
              "3                           46.402279          6.634655        5.406592   \n",
              "4                            5.310478          4.156778        3.259094   \n",
              "...                               ...               ...             ...   \n",
              "1503418                     46.402279         18.807269        1.949084   \n",
              "1503419                     46.402279         17.982884        4.170746   \n",
              "1503420                      4.282558          4.282558        9.406262   \n",
              "1503422                     46.402279         17.982884        4.170746   \n",
              "1503423                     46.402279          6.634655        9.406262   \n",
              "\n",
              "         city_count_%  \n",
              "0            4.230477  \n",
              "1            2.785309  \n",
              "2            3.480256  \n",
              "3            1.023996  \n",
              "4            2.225786  \n",
              "...               ...  \n",
              "1503418      1.500641  \n",
              "1503419      3.107573  \n",
              "1503420      4.232871  \n",
              "1503422      0.262135  \n",
              "1503423      0.385054  \n",
              "\n",
              "[1331625 rows x 12 columns]"
            ],
            "text/html": [
              "\n",
              "  <div id=\"df-0679f43e-4870-49c3-b208-0ab5a792935d\">\n",
              "    <div class=\"colab-df-container\">\n",
              "      <div>\n",
              "<style scoped>\n",
              "    .dataframe tbody tr th:only-of-type {\n",
              "        vertical-align: middle;\n",
              "    }\n",
              "\n",
              "    .dataframe tbody tr th {\n",
              "        vertical-align: top;\n",
              "    }\n",
              "\n",
              "    .dataframe thead th {\n",
              "        text-align: right;\n",
              "    }\n",
              "</style>\n",
              "<table border=\"1\" class=\"dataframe\">\n",
              "  <thead>\n",
              "    <tr style=\"text-align: right;\">\n",
              "      <th></th>\n",
              "      <th>param_1</th>\n",
              "      <th>price</th>\n",
              "      <th>item_seq_number</th>\n",
              "      <th>activation_date</th>\n",
              "      <th>user_type</th>\n",
              "      <th>image_top_1</th>\n",
              "      <th>deal_probability</th>\n",
              "      <th>len_description</th>\n",
              "      <th>parent_category_name_count_%</th>\n",
              "      <th>category_count_%</th>\n",
              "      <th>region_count_%</th>\n",
              "      <th>city_count_%</th>\n",
              "    </tr>\n",
              "  </thead>\n",
              "  <tbody>\n",
              "    <tr>\n",
              "      <th>0</th>\n",
              "      <td>248</td>\n",
              "      <td>400.0</td>\n",
              "      <td>2</td>\n",
              "      <td>13</td>\n",
              "      <td>1</td>\n",
              "      <td>1008.0</td>\n",
              "      <td>0.12789</td>\n",
              "      <td>58</td>\n",
              "      <td>46.402279</td>\n",
              "      <td>6.634655</td>\n",
              "      <td>6.283989</td>\n",
              "      <td>4.230477</td>\n",
              "    </tr>\n",
              "    <tr>\n",
              "      <th>1</th>\n",
              "      <td>121</td>\n",
              "      <td>3000.0</td>\n",
              "      <td>19</td>\n",
              "      <td>11</td>\n",
              "      <td>1</td>\n",
              "      <td>692.0</td>\n",
              "      <td>0.00000</td>\n",
              "      <td>41</td>\n",
              "      <td>11.894382</td>\n",
              "      <td>4.325792</td>\n",
              "      <td>4.882655</td>\n",
              "      <td>2.785309</td>\n",
              "    </tr>\n",
              "    <tr>\n",
              "      <th>2</th>\n",
              "      <td>83</td>\n",
              "      <td>4000.0</td>\n",
              "      <td>9</td>\n",
              "      <td>5</td>\n",
              "      <td>1</td>\n",
              "      <td>3032.0</td>\n",
              "      <td>0.43177</td>\n",
              "      <td>99</td>\n",
              "      <td>11.507599</td>\n",
              "      <td>1.798295</td>\n",
              "      <td>5.986003</td>\n",
              "      <td>3.480256</td>\n",
              "    </tr>\n",
              "    <tr>\n",
              "      <th>3</th>\n",
              "      <td>37</td>\n",
              "      <td>2200.0</td>\n",
              "      <td>286</td>\n",
              "      <td>10</td>\n",
              "      <td>0</td>\n",
              "      <td>796.0</td>\n",
              "      <td>0.80323</td>\n",
              "      <td>22</td>\n",
              "      <td>46.402279</td>\n",
              "      <td>6.634655</td>\n",
              "      <td>5.406592</td>\n",
              "      <td>1.023996</td>\n",
              "    </tr>\n",
              "    <tr>\n",
              "      <th>4</th>\n",
              "      <td>277</td>\n",
              "      <td>40000.0</td>\n",
              "      <td>3</td>\n",
              "      <td>1</td>\n",
              "      <td>1</td>\n",
              "      <td>2264.0</td>\n",
              "      <td>0.20797</td>\n",
              "      <td>24</td>\n",
              "      <td>5.310478</td>\n",
              "      <td>4.156778</td>\n",
              "      <td>3.259094</td>\n",
              "      <td>2.225786</td>\n",
              "    </tr>\n",
              "    <tr>\n",
              "      <th>...</th>\n",
              "      <td>...</td>\n",
              "      <td>...</td>\n",
              "      <td>...</td>\n",
              "      <td>...</td>\n",
              "      <td>...</td>\n",
              "      <td>...</td>\n",
              "      <td>...</td>\n",
              "      <td>...</td>\n",
              "      <td>...</td>\n",
              "      <td>...</td>\n",
              "      <td>...</td>\n",
              "      <td>...</td>\n",
              "    </tr>\n",
              "    <tr>\n",
              "      <th>1503418</th>\n",
              "      <td>125</td>\n",
              "      <td>500.0</td>\n",
              "      <td>10</td>\n",
              "      <td>2</td>\n",
              "      <td>1</td>\n",
              "      <td>387.0</td>\n",
              "      <td>0.12869</td>\n",
              "      <td>92</td>\n",
              "      <td>46.402279</td>\n",
              "      <td>18.807269</td>\n",
              "      <td>1.949084</td>\n",
              "      <td>1.500641</td>\n",
              "    </tr>\n",
              "    <tr>\n",
              "      <th>1503419</th>\n",
              "      <td>104</td>\n",
              "      <td>300.0</td>\n",
              "      <td>7</td>\n",
              "      <td>5</td>\n",
              "      <td>1</td>\n",
              "      <td>88.0</td>\n",
              "      <td>0.25019</td>\n",
              "      <td>3</td>\n",
              "      <td>46.402279</td>\n",
              "      <td>17.982884</td>\n",
              "      <td>4.170746</td>\n",
              "      <td>3.107573</td>\n",
              "    </tr>\n",
              "    <tr>\n",
              "      <th>1503420</th>\n",
              "      <td>268</td>\n",
              "      <td>200.0</td>\n",
              "      <td>1</td>\n",
              "      <td>13</td>\n",
              "      <td>1</td>\n",
              "      <td>1191.0</td>\n",
              "      <td>0.60000</td>\n",
              "      <td>250</td>\n",
              "      <td>4.282558</td>\n",
              "      <td>4.282558</td>\n",
              "      <td>9.406262</td>\n",
              "      <td>4.232871</td>\n",
              "    </tr>\n",
              "    <tr>\n",
              "      <th>1503422</th>\n",
              "      <td>104</td>\n",
              "      <td>350.0</td>\n",
              "      <td>33</td>\n",
              "      <td>7</td>\n",
              "      <td>1</td>\n",
              "      <td>87.0</td>\n",
              "      <td>0.00000</td>\n",
              "      <td>42</td>\n",
              "      <td>46.402279</td>\n",
              "      <td>17.982884</td>\n",
              "      <td>4.170746</td>\n",
              "      <td>0.262135</td>\n",
              "    </tr>\n",
              "    <tr>\n",
              "      <th>1503423</th>\n",
              "      <td>133</td>\n",
              "      <td>1500.0</td>\n",
              "      <td>18</td>\n",
              "      <td>6</td>\n",
              "      <td>1</td>\n",
              "      <td>979.0</td>\n",
              "      <td>0.00000</td>\n",
              "      <td>948</td>\n",
              "      <td>46.402279</td>\n",
              "      <td>6.634655</td>\n",
              "      <td>9.406262</td>\n",
              "      <td>0.385054</td>\n",
              "    </tr>\n",
              "  </tbody>\n",
              "</table>\n",
              "<p>1331625 rows × 12 columns</p>\n",
              "</div>\n",
              "      <button class=\"colab-df-convert\" onclick=\"convertToInteractive('df-0679f43e-4870-49c3-b208-0ab5a792935d')\"\n",
              "              title=\"Convert this dataframe to an interactive table.\"\n",
              "              style=\"display:none;\">\n",
              "        \n",
              "  <svg xmlns=\"http://www.w3.org/2000/svg\" height=\"24px\"viewBox=\"0 0 24 24\"\n",
              "       width=\"24px\">\n",
              "    <path d=\"M0 0h24v24H0V0z\" fill=\"none\"/>\n",
              "    <path d=\"M18.56 5.44l.94 2.06.94-2.06 2.06-.94-2.06-.94-.94-2.06-.94 2.06-2.06.94zm-11 1L8.5 8.5l.94-2.06 2.06-.94-2.06-.94L8.5 2.5l-.94 2.06-2.06.94zm10 10l.94 2.06.94-2.06 2.06-.94-2.06-.94-.94-2.06-.94 2.06-2.06.94z\"/><path d=\"M17.41 7.96l-1.37-1.37c-.4-.4-.92-.59-1.43-.59-.52 0-1.04.2-1.43.59L10.3 9.45l-7.72 7.72c-.78.78-.78 2.05 0 2.83L4 21.41c.39.39.9.59 1.41.59.51 0 1.02-.2 1.41-.59l7.78-7.78 2.81-2.81c.8-.78.8-2.07 0-2.86zM5.41 20L4 18.59l7.72-7.72 1.47 1.35L5.41 20z\"/>\n",
              "  </svg>\n",
              "      </button>\n",
              "      \n",
              "  <style>\n",
              "    .colab-df-container {\n",
              "      display:flex;\n",
              "      flex-wrap:wrap;\n",
              "      gap: 12px;\n",
              "    }\n",
              "\n",
              "    .colab-df-convert {\n",
              "      background-color: #E8F0FE;\n",
              "      border: none;\n",
              "      border-radius: 50%;\n",
              "      cursor: pointer;\n",
              "      display: none;\n",
              "      fill: #1967D2;\n",
              "      height: 32px;\n",
              "      padding: 0 0 0 0;\n",
              "      width: 32px;\n",
              "    }\n",
              "\n",
              "    .colab-df-convert:hover {\n",
              "      background-color: #E2EBFA;\n",
              "      box-shadow: 0px 1px 2px rgba(60, 64, 67, 0.3), 0px 1px 3px 1px rgba(60, 64, 67, 0.15);\n",
              "      fill: #174EA6;\n",
              "    }\n",
              "\n",
              "    [theme=dark] .colab-df-convert {\n",
              "      background-color: #3B4455;\n",
              "      fill: #D2E3FC;\n",
              "    }\n",
              "\n",
              "    [theme=dark] .colab-df-convert:hover {\n",
              "      background-color: #434B5C;\n",
              "      box-shadow: 0px 1px 3px 1px rgba(0, 0, 0, 0.15);\n",
              "      filter: drop-shadow(0px 1px 2px rgba(0, 0, 0, 0.3));\n",
              "      fill: #FFFFFF;\n",
              "    }\n",
              "  </style>\n",
              "\n",
              "      <script>\n",
              "        const buttonEl =\n",
              "          document.querySelector('#df-0679f43e-4870-49c3-b208-0ab5a792935d button.colab-df-convert');\n",
              "        buttonEl.style.display =\n",
              "          google.colab.kernel.accessAllowed ? 'block' : 'none';\n",
              "\n",
              "        async function convertToInteractive(key) {\n",
              "          const element = document.querySelector('#df-0679f43e-4870-49c3-b208-0ab5a792935d');\n",
              "          const dataTable =\n",
              "            await google.colab.kernel.invokeFunction('convertToInteractive',\n",
              "                                                     [key], {});\n",
              "          if (!dataTable) return;\n",
              "\n",
              "          const docLinkHtml = 'Like what you see? Visit the ' +\n",
              "            '<a target=\"_blank\" href=https://colab.research.google.com/notebooks/data_table.ipynb>data table notebook</a>'\n",
              "            + ' to learn more about interactive tables.';\n",
              "          element.innerHTML = '';\n",
              "          dataTable['output_type'] = 'display_data';\n",
              "          await google.colab.output.renderOutput(dataTable, element);\n",
              "          const docLink = document.createElement('div');\n",
              "          docLink.innerHTML = docLinkHtml;\n",
              "          element.appendChild(docLink);\n",
              "        }\n",
              "      </script>\n",
              "    </div>\n",
              "  </div>\n",
              "  "
            ]
          },
          "metadata": {},
          "execution_count": 8
        }
      ],
      "source": [
        "new_df.featuregenerator()\n",
        "new_df.customencoder()\n",
        "new_df.customdrop()"
      ]
    },
    {
      "cell_type": "code",
      "source": [
        "from google.colab import drive\n",
        "drive.mount('/content/drive')"
      ],
      "metadata": {
        "colab": {
          "base_uri": "https://localhost:8080/"
        },
        "id": "N6Ib-sQwuThk",
        "outputId": "6ea880d2-717f-4902-9c0c-ed80be3691f3"
      },
      "execution_count": null,
      "outputs": [
        {
          "output_type": "stream",
          "name": "stdout",
          "text": [
            "Mounted at /content/drive\n"
          ]
        }
      ]
    },
    {
      "cell_type": "code",
      "execution_count": null,
      "metadata": {
        "id": "HqujIuJEt_-9"
      },
      "outputs": [],
      "source": [
        "stop = len(new_df)"
      ]
    },
    {
      "cell_type": "code",
      "execution_count": null,
      "metadata": {
        "colab": {
          "base_uri": "https://localhost:8080/"
        },
        "id": "HZ8QTobht_--",
        "outputId": "193038a1-311f-4f91-bde6-5f3f463b7d17"
      },
      "outputs": [
        {
          "output_type": "execute_result",
          "data": {
            "text/plain": [
              "171799"
            ]
          },
          "metadata": {},
          "execution_count": 10
        }
      ],
      "source": [
        "# многовато как-то данных потеряла, хотя мои рассчеты в основном показывали \n",
        "# 2-3%, за вычетом второго и третьего параметров, которые я удалила из датасета\n",
        "start - stop"
      ]
    },
    {
      "cell_type": "code",
      "execution_count": null,
      "metadata": {
        "id": "H0Rxi69Et_-_"
      },
      "outputs": [],
      "source": [
        "X, y =  new_df.customsplit()"
      ]
    },
    {
      "cell_type": "code",
      "execution_count": null,
      "metadata": {
        "id": "lP89kpNTt_-_"
      },
      "outputs": [],
      "source": [
        "# Не смогла отскалировать при помощи PyTorch, взяла sklearn\n",
        "# 3) Вопрос третий - нужно ли было это вообще делать и если нужно, то как лучше\n",
        "scaler = MinMaxScaler()\n",
        "Scaled_X = torch.tensor(scaler.fit_transform(X))"
      ]
    },
    {
      "cell_type": "code",
      "execution_count": null,
      "metadata": {
        "colab": {
          "base_uri": "https://localhost:8080/"
        },
        "id": "oRkdxH3dt__A",
        "outputId": "6a371b4d-63e8-4e7b-8e96-dfbfdd707b44"
      },
      "outputs": [
        {
          "output_type": "execute_result",
          "data": {
            "text/plain": [
              "param_1                          248.000000\n",
              "price                            400.000000\n",
              "item_seq_number                    2.000000\n",
              "activation_date                   13.000000\n",
              "user_type                          1.000000\n",
              "image_top_1                     1008.000000\n",
              "deal_probability                   0.127890\n",
              "len_description                   58.000000\n",
              "parent_category_name_count_%      46.402279\n",
              "category_count_%                   6.634655\n",
              "region_count_%                     6.283989\n",
              "city_count_%                       4.230477\n",
              "Name: 0, dtype: float64"
            ]
          },
          "metadata": {},
          "execution_count": 13
        }
      ],
      "source": [
        "new_df[0]"
      ]
    },
    {
      "cell_type": "markdown",
      "metadata": {
        "id": "AHhndx8gt__E"
      },
      "source": [
        "## Обернуть его в Dataloader"
      ]
    },
    {
      "cell_type": "markdown",
      "metadata": {
        "id": "jn0ctdj0t__F"
      },
      "source": [
        "#### train-test разделение нужно сделать с помощью sklearn random_state=13, test_size = 0.25"
      ]
    },
    {
      "cell_type": "code",
      "execution_count": null,
      "metadata": {
        "id": "2seWFIzyt__F"
      },
      "outputs": [],
      "source": [
        "# df\n",
        "X_df_train, X_df_test, y_df_train, y_df_test = train_test_split(Scaled_X, y,\n",
        "                                                               random_state=13,\n",
        "                                                               test_size=0.25)"
      ]
    },
    {
      "cell_type": "code",
      "execution_count": null,
      "metadata": {
        "colab": {
          "base_uri": "https://localhost:8080/"
        },
        "id": "tqDVk_F0t__G",
        "outputId": "c2955da6-6229-4319-fd77-587a08f86624"
      },
      "outputs": [
        {
          "output_type": "execute_result",
          "data": {
            "text/plain": [
              "(torch.Size([998718, 11]), torch.Size([998718]))"
            ]
          },
          "metadata": {},
          "execution_count": 15
        }
      ],
      "source": [
        "X_df_train.shape, y_df_train.shape"
      ]
    },
    {
      "cell_type": "code",
      "execution_count": null,
      "metadata": {
        "id": "pvUJZgKEt__H"
      },
      "outputs": [],
      "source": [
        "df_dataloader_train = torch.utils.data.DataLoader(list((zip(X_df_train, y_df_train))),\n",
        "                                           batch_size=128, \n",
        "                                           shuffle=True,\n",
        "                                           num_workers=2)\n",
        "df_dataloader_test = torch.utils.data.DataLoader(list((zip(X_df_test, y_df_test))),\n",
        "                                           batch_size=128, \n",
        "                                           shuffle=True,\n",
        "                                           num_workers=2)"
      ]
    },
    {
      "cell_type": "code",
      "execution_count": null,
      "metadata": {
        "colab": {
          "base_uri": "https://localhost:8080/"
        },
        "id": "xxjy6PUat__J",
        "outputId": "48f0f4a5-40c1-4fe8-b668-f8c5a13ab7ae"
      },
      "outputs": [
        {
          "output_type": "execute_result",
          "data": {
            "text/plain": [
              "7803"
            ]
          },
          "metadata": {},
          "execution_count": 17
        }
      ],
      "source": [
        "len(df_dataloader_train)"
      ]
    },
    {
      "cell_type": "markdown",
      "metadata": {
        "id": "rcZDrTQJt__K"
      },
      "source": [
        "## Написать архитектуру сети, которая предсказывает число показов на основании числовых данных (вы всегда можете нагенерить дополнительных факторов).Сеть должна включать BatchNorm слои и Dropout (или НЕ включать, но нужно обосновать)"
      ]
    },
    {
      "cell_type": "code",
      "execution_count": null,
      "metadata": {
        "id": "pxcn1OlKt__L"
      },
      "outputs": [],
      "source": [
        "# функция активации только в конце\n",
        "class MyNet(nn.Module):\n",
        "    def __init__(self, input_dim, output_dim):\n",
        "        super().__init__()\n",
        "        self.bn1 = nn.BatchNorm1d(input_dim)\n",
        "        self.fc1 = nn.Linear(input_dim, 512)\n",
        "        self.fc2 = nn.Linear(512, 256)\n",
        "        #self.leakyrelu = torch.nn.LeakyReLU()\n",
        "        self.dp1 = nn.Dropout(0.25)\n",
        "        self.bn2 = nn.BatchNorm1d(256)\n",
        "        self.fc3 = nn.Linear(256, 128)\n",
        "        self.fc4 = nn.Linear(128, 64)\n",
        "        #self.leakyrelu = torch.nn.LeakyReLU()\n",
        "        self.bn3 = nn.BatchNorm1d(64)\n",
        "        self.dp2 = nn.Dropout(0.25)\n",
        "        self.fc5 = nn.Linear(64, output_dim)\n",
        "        self.relu = torch.nn.ReLU()\n",
        " \n",
        "    \n",
        "    def forward(self, x):\n",
        "        x = x.view(x.shape[0], -1)\n",
        "        x = self.bn1(x)\n",
        "        x = self.fc1(x)\n",
        "        x = self.fc2(x)\n",
        "        #x = self.leakyrelu(x)\n",
        "        x = self.dp1(x)\n",
        "        x = self.bn2(x)\n",
        "        x = self.fc3(x)\n",
        "        x = self.fc4(x)\n",
        "        #x = self.leakyrelu(x)\n",
        "        x = self.bn3(x)\n",
        "        x = self.dp2(x)\n",
        "        x = self.fc5(x)\n",
        "        x = self.relu(x)\n",
        "        return x\n",
        "    \n",
        "    def predict(self, x):\n",
        "        x = x.view(x.shape[0], -1)\n",
        "        x = self.bn1(x)\n",
        "        x = self.fc1(x)\n",
        "        x = self.fc2(x)\n",
        "        #x = self.leakyrelu(x)\n",
        "        x = self.dp1(x)\n",
        "        x = self.bn2(x)\n",
        "        x = self.fc3(x)\n",
        "        x = self.fc4(x)\n",
        "        #x = self.leakyrelu(x)\n",
        "        x = self.bn3(x)\n",
        "        x = self.dp2(x)\n",
        "        x = self.fc5(x)\n",
        "        x = self.relu(x)\n",
        "        \n",
        "        return x    "
      ]
    },
    {
      "cell_type": "markdown",
      "metadata": {
        "id": "myJBjmjvt__M"
      },
      "source": [
        "## Учить будем на функцию потерь с кагла (log RMSE) - нужно её реализовать"
      ]
    },
    {
      "cell_type": "code",
      "execution_count": 59,
      "metadata": {
        "id": "LAbml-mIt__N"
      },
      "outputs": [],
      "source": [
        "# В метриках на каггле описана обычная rmse, здесь логарифмированная\n",
        "# Реализовала и испытаю обе\n",
        "\n",
        "def RMSE(y, preds):\n",
        "    return torch.sqrt(torch.mean((y - preds) ** 2))\n",
        "def RMSLE (preds, y):\n",
        "    return torch.sqrt(torch.mean((torch.log(preds + 1) - torch.log(y + 1)) ** 2))\n",
        "    "
      ]
    },
    {
      "cell_type": "code",
      "execution_count": null,
      "metadata": {
        "id": "rhWupvqet__O"
      },
      "outputs": [],
      "source": [
        "# Этот кусок кода я утащила - не разобралась сама как считать ошибку (точнее, как собрать результат)\n",
        "# к своему стыду, даже в готовом коде не разобралась.\n",
        "# 4) Вопрос четвертый - как это работает в плане подсчета ошибки и какие альтернативы есть\n",
        "def training(train_loader, model, criterion, optimizer, epochs=5, n=200):\n",
        "    array_loss = []\n",
        "    for epoch in range(epochs):  \n",
        "        running_loss = 0.0\n",
        "        array_loss_batches = []\n",
        "        for i, data in enumerate(train_loader, 0):\n",
        "            inputs, labels = data[0], data[1]\n",
        "            # обнуляем градиент\n",
        "            optimizer.zero_grad()\n",
        "            outputs = model(inputs.float())\n",
        "            loss = criterion(outputs, labels)\n",
        "            loss.backward()\n",
        "            optimizer.step()\n",
        "            # выводим статистику о процессе обучения\n",
        "            running_loss += loss.item()\n",
        "            # печатаем каждые n mini-batches\n",
        "            if i % n == 0:\n",
        "                array_loss_batches.append(running_loss / (i+1))                 \n",
        "        array_loss.extend(array_loss_batches)    \n",
        "    return array_loss"
      ]
    },
    {
      "cell_type": "code",
      "source": [
        "# RMSE\n",
        "criterion = RMSE"
      ],
      "metadata": {
        "id": "SJ8f0AwAyK0n"
      },
      "execution_count": null,
      "outputs": []
    },
    {
      "cell_type": "code",
      "execution_count": null,
      "metadata": {
        "id": "vBItx5pzt__O"
      },
      "outputs": [],
      "source": [
        "SGD_model = MyNet(11, 1)\n",
        "SGD_optimizer = torch.optim.SGD(SGD_model.parameters(), lr=0.01)\n",
        "SGD_loss = training(df_dataloader_train,SGD_model, criterion, SGD_optimizer)"
      ]
    },
    {
      "cell_type": "code",
      "execution_count": null,
      "metadata": {
        "id": "zwWVt7Y5t__P"
      },
      "outputs": [],
      "source": [
        "ADAM_model = MyNet(11, 1)\n",
        "ADAM_optimizer = torch.optim.Adam(ADAM_model.parameters())\n",
        "ADAM_loss = training(df_dataloader_train,ADAM_model, criterion, ADAM_optimizer)"
      ]
    },
    {
      "cell_type": "code",
      "execution_count": null,
      "metadata": {
        "id": "hIzFy7p0t__Q"
      },
      "outputs": [],
      "source": [
        "RMSprop_model = MyNet(11, 1)\n",
        "RMSprop_optimizer = torch.optim.RMSprop(RMSprop_model.parameters())\n",
        "RMSprop_loss = training(df_dataloader_train, RMSprop_model, criterion, RMSprop_optimizer)"
      ]
    },
    {
      "cell_type": "code",
      "execution_count": null,
      "metadata": {
        "colab": {
          "base_uri": "https://localhost:8080/",
          "height": 459
        },
        "id": "08mIeMDBt__R",
        "outputId": "6d1b8d98-21b5-419e-e87b-5355aad08928"
      },
      "outputs": [
        {
          "output_type": "display_data",
          "data": {
            "text/plain": [
              "<Figure size 1080x504 with 1 Axes>"
            ],
            "image/png": "[encoded data removed]"
          },
          "metadata": {
            "needs_background": "light"
          }
        }
      ],
      "source": [
        "fig, ax = plt.subplots(figsize=(15, 7))\n",
        "ax.plot(SGD_loss, color='cyan', label='SGD')\n",
        "ax.plot(ADAM_loss, color='red', label='ADAM')\n",
        "ax.plot(RMSprop_loss, color='gray', label='RMSprop')\n",
        "ax.set(title='SGD & ADAM & PMSprop optimizers',\n",
        "      xlabel='num_bathces',\n",
        "      ylabel='loss')\n",
        "ax.grid(True)"
      ]
    },
    {
      "cell_type": "code",
      "source": [
        "# RMSLE\n",
        "criterion = RMSLE"
      ],
      "metadata": {
        "id": "N5J473F_3FCM"
      },
      "execution_count": null,
      "outputs": []
    },
    {
      "cell_type": "code",
      "source": [
        "SGD_model = MyNet(11, 1)\n",
        "SGD_optimizer = torch.optim.SGD(SGD_model.parameters(), lr=0.01)\n",
        "SGD_loss = training(df_dataloader_train,SGD_model, criterion, SGD_optimizer)"
      ],
      "metadata": {
        "id": "blaJ6QqfEvfJ"
      },
      "execution_count": null,
      "outputs": []
    },
    {
      "cell_type": "code",
      "source": [
        "ADAM_model = MyNet(11, 1)\n",
        "ADAM_optimizer = torch.optim.Adam(ADAM_model.parameters())\n",
        "ADAM_loss = training(df_dataloader_train,ADAM_model, criterion, ADAM_optimizer)"
      ],
      "metadata": {
        "id": "DvffcOR_EyQz"
      },
      "execution_count": null,
      "outputs": []
    },
    {
      "cell_type": "code",
      "source": [
        "RMSprop_model = MyNet(11, 1)\n",
        "RMSprop_optimizer = torch.optim.RMSprop(RMSprop_model.parameters())\n",
        "RMSprop_loss = training(df_dataloader_train, RMSprop_model, criterion, RMSprop_optimizer)"
      ],
      "metadata": {
        "id": "MpV3_RuaE3FP"
      },
      "execution_count": null,
      "outputs": []
    },
    {
      "cell_type": "code",
      "source": [
        "fig, ax = plt.subplots(figsize=(15, 7))\n",
        "ax.plot(SGD_loss, color='cyan', label='SGD')\n",
        "ax.plot(ADAM_loss, color='red', label='ADAM')\n",
        "ax.plot(RMSprop_loss, color='gray', label='RMSprop')\n",
        "ax.set(title='SGD & ADAM & PMSprop optimizers',\n",
        "      xlabel='num_bathces',\n",
        "      ylabel='loss')\n",
        "ax.grid(True)"
      ],
      "metadata": {
        "colab": {
          "base_uri": "https://localhost:8080/",
          "height": 459
        },
        "id": "M-KmLpXyE6fa",
        "outputId": "f077b034-c28a-4f6e-cc7d-71d04572beef"
      },
      "execution_count": null,
      "outputs": [
        {
          "output_type": "display_data",
          "data": {
            "text/plain": [
              "<Figure size 1080x504 with 1 Axes>"
            ],
            "image/png": "[encoded data removed]"
          },
          "metadata": {
            "needs_background": "light"
          }
        }
      ]
    },
    {
      "cell_type": "code",
      "source": [
        "# добавила LeakyReLU, ошибка меньше не стала особо, но ее скачки сильно уменьшились. Почему так?\n",
        "class MyNet(nn.Module):\n",
        "    def __init__(self, input_dim, output_dim):\n",
        "        super().__init__()\n",
        "        self.bn1 = nn.BatchNorm1d(input_dim)\n",
        "        self.fc1 = nn.Linear(input_dim, 512)\n",
        "        self.fc2 = nn.Linear(512, 256)\n",
        "        self.leakyrelu = torch.nn.LeakyReLU()\n",
        "        self.dp1 = nn.Dropout(0.25)\n",
        "        self.bn2 = nn.BatchNorm1d(256)\n",
        "        self.fc3 = nn.Linear(256, 128)\n",
        "        self.fc4 = nn.Linear(128, 64)\n",
        "        self.leakyrelu = torch.nn.LeakyReLU()\n",
        "        self.bn3 = nn.BatchNorm1d(64)\n",
        "        self.dp2 = nn.Dropout(0.25)\n",
        "        self.fc5 = nn.Linear(64, output_dim)\n",
        "        self.relu = torch.nn.ReLU()\n",
        " \n",
        "    \n",
        "    def forward(self, x):\n",
        "        x = x.view(x.shape[0], -1)\n",
        "        x = self.bn1(x)\n",
        "        x = self.fc1(x)\n",
        "        x = self.fc2(x)\n",
        "        x = self.leakyrelu(x)\n",
        "        x = self.dp1(x)\n",
        "        x = self.bn2(x)\n",
        "        x = self.fc3(x)\n",
        "        x = self.fc4(x)\n",
        "        x = self.leakyrelu(x)\n",
        "        x = self.bn3(x)\n",
        "        x = self.dp2(x)\n",
        "        x = self.fc5(x)\n",
        "        x = self.relu(x)\n",
        "        return x\n",
        "    \n",
        "    def predict(self, x):\n",
        "        x = x.view(x.shape[0], -1)\n",
        "        x = self.bn1(x)\n",
        "        x = self.fc1(x)\n",
        "        x = self.fc2(x)\n",
        "        x = self.leakyrelu(x)\n",
        "        x = self.dp1(x)\n",
        "        x = self.bn2(x)\n",
        "        x = self.fc3(x)\n",
        "        x = self.fc4(x)\n",
        "        x = self.leakyrelu(x)\n",
        "        x = self.bn3(x)\n",
        "        x = self.dp2(x)\n",
        "        x = self.fc5(x)\n",
        "        x = self.relu(x)\n",
        "        \n",
        "        return x    "
      ],
      "metadata": {
        "id": "v5UtXXNPaZsG"
      },
      "execution_count": 58,
      "outputs": []
    },
    {
      "cell_type": "code",
      "source": [
        "# RMSLE\n",
        "criterion = RMSLE\n",
        "SGD_model = MyNet(11, 1)\n",
        "SGD_optimizer = torch.optim.SGD(SGD_model.parameters(), lr=0.01)\n",
        "SGD_loss = training(df_dataloader_train,SGD_model, criterion, SGD_optimizer)\n",
        "ADAM_model = MyNet(11, 1)\n",
        "ADAM_optimizer = torch.optim.Adam(ADAM_model.parameters())\n",
        "ADAM_loss = training(df_dataloader_train,ADAM_model, criterion, ADAM_optimizer)\n",
        "RMSprop_model = MyNet(11, 1)\n",
        "RMSprop_optimizer = torch.optim.RMSprop(RMSprop_model.parameters())\n",
        "RMSprop_loss = training(df_dataloader_train, RMSprop_model, criterion, RMSprop_optimizer)"
      ],
      "metadata": {
        "id": "igKyNabUaZ7K"
      },
      "execution_count": 60,
      "outputs": []
    },
    {
      "cell_type": "code",
      "source": [
        "fig, ax = plt.subplots(figsize=(15, 7))\n",
        "ax.plot(SGD_loss, color='cyan', label='SGD')\n",
        "ax.plot(ADAM_loss, color='red', label='ADAM')\n",
        "ax.plot(RMSprop_loss, color='gray', label='RMSprop')\n",
        "ax.set(title='SGD & ADAM & PMSprop optimizers',\n",
        "      xlabel='num_bathces',\n",
        "      ylabel='loss')\n",
        "ax.grid(True)"
      ],
      "metadata": {
        "colab": {
          "base_uri": "https://localhost:8080/",
          "height": 459
        },
        "id": "4V-tKX6faaB4",
        "outputId": "8d84b30e-5c64-48e7-c8bf-702fa0796f2e"
      },
      "execution_count": 61,
      "outputs": [
        {
          "output_type": "display_data",
          "data": {
            "text/plain": [
              "<Figure size 1080x504 with 1 Axes>"
            ],
            "image/png": "[encoded data removed]"
          },
          "metadata": {
            "needs_background": "light"
          }
        }
      ]
    },
    {
      "cell_type": "markdown",
      "source": [
        "## Сравните сходимость Adam, RMSProp и SGD, сделайте вывод по качеству работы модели"
      ],
      "metadata": {
        "id": "VvUqSFR-NvVt"
      }
    },
    {
      "cell_type": "code",
      "source": [
        "# RMSLE лучше отрабатывает, ошибка меньше. Из оптимайзеров SGD и ADAM почти одинаково отрабатывают,\n",
        "# RMSprop больше ошибку дает.\n",
        "# 5) Вопрос пятый - откуда эти скачки ошибок во всех трех случаях? Из-за использования батчей?"
      ],
      "metadata": {
        "id": "HGEA7XrhGomk"
      },
      "execution_count": null,
      "outputs": []
    },
    {
      "cell_type": "code",
      "source": [
        "class NewPeriods(torch.utils.data.Dataset):\n",
        "    \n",
        "    def __init__(self, csv_file):\n",
        "        self.periods = pd.read_csv(csv_file)\n",
        "        \n",
        "    def __len__(self):\n",
        "        return len(self.periods)\n",
        "    \n",
        "    def customdrop(self):\n",
        "        return df.dropna(subset=['activation_date'])\n",
        "    \n",
        "    def customsplit(self):\n",
        "        X = self.periods.iloc[:, : -1]\n",
        "        y = self.periods.iloc[:, -1]\n",
        "        return X, y\n",
        "    \n",
        "    def __getitem__(self, ind):\n",
        "        self.periods['activation_date'] = pd.to_datetime(self.periods[\"activation_date\"])\n",
        "        self.periods['date_from'] = pd.to_datetime(self.periods['date_from'])\n",
        "        self.periods['date_to'] = pd.to_datetime(self.periods['date_to'])\n",
        "        self.periods['before_start'] = (self.periods['date_from'] - self.periods['activation_date']).dt.days\n",
        "        self.periods['active_life'] = (self.periods['date_to'] - self.periods['date_from']).dt.days\n",
        "        self.periods['life_duration'] = (self.periods['date_to'] - self.periods['activation_date']).dt.days\n",
        "        val = self.periods.iloc[ind]\n",
        "        return val\n",
        "    \n",
        "    def customhead(self, n):\n",
        "        if n < 51: \n",
        "            head_val = self.periods.iloc[0 : n]\n",
        "            return head_val\n",
        "        else:\n",
        "            raise RuntimeError"
      ],
      "metadata": {
        "id": "5B58dUjrPzoR"
      },
      "execution_count": null,
      "outputs": []
    },
    {
      "cell_type": "code",
      "source": [
        "new_p = NewPeriods('/content/drive/MyDrive/periods_train.csv')"
      ],
      "metadata": {
        "id": "L6hvUMvZPz4X"
      },
      "execution_count": null,
      "outputs": []
    },
    {
      "cell_type": "code",
      "source": [
        "# А вот это про метод getitem, что я выше описывала\n",
        "new_p.customhead(5)"
      ],
      "metadata": {
        "colab": {
          "base_uri": "https://localhost:8080/",
          "height": 204
        },
        "id": "-KABo71XQbwS",
        "outputId": "0d3f7e78-bd5c-4bc3-cb8d-ff1bd1639927"
      },
      "execution_count": null,
      "outputs": [
        {
          "output_type": "execute_result",
          "data": {
            "text/plain": [
              "        item_id activation_date   date_from     date_to\n",
              "0  8f5caef7afb0      2017-02-14  2017-03-15  2017-03-16\n",
              "1  66218ff526d1      2017-02-16  2017-03-15  2017-03-18\n",
              "2  b237d9539b21      2017-03-01  2017-03-15  2017-03-28\n",
              "3  80bf58082ad3      2017-03-19  2017-03-19  2017-03-28\n",
              "4  67a9944a7373      2017-03-14  2017-03-15  2017-03-28"
            ],
            "text/html": [
              "\n",
              "  <div id=\"df-32a7fb2d-b11b-46a3-98aa-f8ef421574d5\">\n",
              "    <div class=\"colab-df-container\">\n",
              "      <div>\n",
              "<style scoped>\n",
              "    .dataframe tbody tr th:only-of-type {\n",
              "        vertical-align: middle;\n",
              "    }\n",
              "\n",
              "    .dataframe tbody tr th {\n",
              "        vertical-align: top;\n",
              "    }\n",
              "\n",
              "    .dataframe thead th {\n",
              "        text-align: right;\n",
              "    }\n",
              "</style>\n",
              "<table border=\"1\" class=\"dataframe\">\n",
              "  <thead>\n",
              "    <tr style=\"text-align: right;\">\n",
              "      <th></th>\n",
              "      <th>item_id</th>\n",
              "      <th>activation_date</th>\n",
              "      <th>date_from</th>\n",
              "      <th>date_to</th>\n",
              "    </tr>\n",
              "  </thead>\n",
              "  <tbody>\n",
              "    <tr>\n",
              "      <th>0</th>\n",
              "      <td>8f5caef7afb0</td>\n",
              "      <td>2017-02-14</td>\n",
              "      <td>2017-03-15</td>\n",
              "      <td>2017-03-16</td>\n",
              "    </tr>\n",
              "    <tr>\n",
              "      <th>1</th>\n",
              "      <td>66218ff526d1</td>\n",
              "      <td>2017-02-16</td>\n",
              "      <td>2017-03-15</td>\n",
              "      <td>2017-03-18</td>\n",
              "    </tr>\n",
              "    <tr>\n",
              "      <th>2</th>\n",
              "      <td>b237d9539b21</td>\n",
              "      <td>2017-03-01</td>\n",
              "      <td>2017-03-15</td>\n",
              "      <td>2017-03-28</td>\n",
              "    </tr>\n",
              "    <tr>\n",
              "      <th>3</th>\n",
              "      <td>80bf58082ad3</td>\n",
              "      <td>2017-03-19</td>\n",
              "      <td>2017-03-19</td>\n",
              "      <td>2017-03-28</td>\n",
              "    </tr>\n",
              "    <tr>\n",
              "      <th>4</th>\n",
              "      <td>67a9944a7373</td>\n",
              "      <td>2017-03-14</td>\n",
              "      <td>2017-03-15</td>\n",
              "      <td>2017-03-28</td>\n",
              "    </tr>\n",
              "  </tbody>\n",
              "</table>\n",
              "</div>\n",
              "      <button class=\"colab-df-convert\" onclick=\"convertToInteractive('df-32a7fb2d-b11b-46a3-98aa-f8ef421574d5')\"\n",
              "              title=\"Convert this dataframe to an interactive table.\"\n",
              "              style=\"display:none;\">\n",
              "        \n",
              "  <svg xmlns=\"http://www.w3.org/2000/svg\" height=\"24px\"viewBox=\"0 0 24 24\"\n",
              "       width=\"24px\">\n",
              "    <path d=\"M0 0h24v24H0V0z\" fill=\"none\"/>\n",
              "    <path d=\"M18.56 5.44l.94 2.06.94-2.06 2.06-.94-2.06-.94-.94-2.06-.94 2.06-2.06.94zm-11 1L8.5 8.5l.94-2.06 2.06-.94-2.06-.94L8.5 2.5l-.94 2.06-2.06.94zm10 10l.94 2.06.94-2.06 2.06-.94-2.06-.94-.94-2.06-.94 2.06-2.06.94z\"/><path d=\"M17.41 7.96l-1.37-1.37c-.4-.4-.92-.59-1.43-.59-.52 0-1.04.2-1.43.59L10.3 9.45l-7.72 7.72c-.78.78-.78 2.05 0 2.83L4 21.41c.39.39.9.59 1.41.59.51 0 1.02-.2 1.41-.59l7.78-7.78 2.81-2.81c.8-.78.8-2.07 0-2.86zM5.41 20L4 18.59l7.72-7.72 1.47 1.35L5.41 20z\"/>\n",
              "  </svg>\n",
              "      </button>\n",
              "      \n",
              "  <style>\n",
              "    .colab-df-container {\n",
              "      display:flex;\n",
              "      flex-wrap:wrap;\n",
              "      gap: 12px;\n",
              "    }\n",
              "\n",
              "    .colab-df-convert {\n",
              "      background-color: #E8F0FE;\n",
              "      border: none;\n",
              "      border-radius: 50%;\n",
              "      cursor: pointer;\n",
              "      display: none;\n",
              "      fill: #1967D2;\n",
              "      height: 32px;\n",
              "      padding: 0 0 0 0;\n",
              "      width: 32px;\n",
              "    }\n",
              "\n",
              "    .colab-df-convert:hover {\n",
              "      background-color: #E2EBFA;\n",
              "      box-shadow: 0px 1px 2px rgba(60, 64, 67, 0.3), 0px 1px 3px 1px rgba(60, 64, 67, 0.15);\n",
              "      fill: #174EA6;\n",
              "    }\n",
              "\n",
              "    [theme=dark] .colab-df-convert {\n",
              "      background-color: #3B4455;\n",
              "      fill: #D2E3FC;\n",
              "    }\n",
              "\n",
              "    [theme=dark] .colab-df-convert:hover {\n",
              "      background-color: #434B5C;\n",
              "      box-shadow: 0px 1px 3px 1px rgba(0, 0, 0, 0.15);\n",
              "      filter: drop-shadow(0px 1px 2px rgba(0, 0, 0, 0.3));\n",
              "      fill: #FFFFFF;\n",
              "    }\n",
              "  </style>\n",
              "\n",
              "      <script>\n",
              "        const buttonEl =\n",
              "          document.querySelector('#df-32a7fb2d-b11b-46a3-98aa-f8ef421574d5 button.colab-df-convert');\n",
              "        buttonEl.style.display =\n",
              "          google.colab.kernel.accessAllowed ? 'block' : 'none';\n",
              "\n",
              "        async function convertToInteractive(key) {\n",
              "          const element = document.querySelector('#df-32a7fb2d-b11b-46a3-98aa-f8ef421574d5');\n",
              "          const dataTable =\n",
              "            await google.colab.kernel.invokeFunction('convertToInteractive',\n",
              "                                                     [key], {});\n",
              "          if (!dataTable) return;\n",
              "\n",
              "          const docLinkHtml = 'Like what you see? Visit the ' +\n",
              "            '<a target=\"_blank\" href=https://colab.research.google.com/notebooks/data_table.ipynb>data table notebook</a>'\n",
              "            + ' to learn more about interactive tables.';\n",
              "          element.innerHTML = '';\n",
              "          dataTable['output_type'] = 'display_data';\n",
              "          await google.colab.output.renderOutput(dataTable, element);\n",
              "          const docLink = document.createElement('div');\n",
              "          docLink.innerHTML = docLinkHtml;\n",
              "          element.appendChild(docLink);\n",
              "        }\n",
              "      </script>\n",
              "    </div>\n",
              "  </div>\n",
              "  "
            ]
          },
          "metadata": {},
          "execution_count": 54
        }
      ]
    },
    {
      "cell_type": "code",
      "source": [
        "new_p[3]"
      ],
      "metadata": {
        "colab": {
          "base_uri": "https://localhost:8080/"
        },
        "id": "4OB-jgT0QkGa",
        "outputId": "31c47935-d7b3-4221-a70e-6bf47a237cb1"
      },
      "execution_count": null,
      "outputs": [
        {
          "output_type": "execute_result",
          "data": {
            "text/plain": [
              "item_id                   80bf58082ad3\n",
              "activation_date    2017-03-19 00:00:00\n",
              "date_from          2017-03-19 00:00:00\n",
              "date_to            2017-03-28 00:00:00\n",
              "before_start                       0.0\n",
              "active_life                          9\n",
              "life_duration                      9.0\n",
              "Name: 3, dtype: object"
            ]
          },
          "metadata": {},
          "execution_count": 55
        }
      ]
    },
    {
      "cell_type": "code",
      "source": [
        "new_p.customhead(5)"
      ],
      "metadata": {
        "colab": {
          "base_uri": "https://localhost:8080/",
          "height": 204
        },
        "id": "2dy1isbrQkYW",
        "outputId": "71ea67a3-67a9-4e0b-81f6-cc51ecb12b5f"
      },
      "execution_count": null,
      "outputs": [
        {
          "output_type": "execute_result",
          "data": {
            "text/plain": [
              "        item_id activation_date  date_from    date_to  before_start  \\\n",
              "0  8f5caef7afb0      2017-02-14 2017-03-15 2017-03-16          29.0   \n",
              "1  66218ff526d1      2017-02-16 2017-03-15 2017-03-18          27.0   \n",
              "2  b237d9539b21      2017-03-01 2017-03-15 2017-03-28          14.0   \n",
              "3  80bf58082ad3      2017-03-19 2017-03-19 2017-03-28           0.0   \n",
              "4  67a9944a7373      2017-03-14 2017-03-15 2017-03-28           1.0   \n",
              "\n",
              "   active_life  life_duration  \n",
              "0            1           30.0  \n",
              "1            3           30.0  \n",
              "2           13           27.0  \n",
              "3            9            9.0  \n",
              "4           13           14.0  "
            ],
            "text/html": [
              "\n",
              "  <div id=\"df-73d3707b-0ea3-46b3-8f77-2da762a2b967\">\n",
              "    <div class=\"colab-df-container\">\n",
              "      <div>\n",
              "<style scoped>\n",
              "    .dataframe tbody tr th:only-of-type {\n",
              "        vertical-align: middle;\n",
              "    }\n",
              "\n",
              "    .dataframe tbody tr th {\n",
              "        vertical-align: top;\n",
              "    }\n",
              "\n",
              "    .dataframe thead th {\n",
              "        text-align: right;\n",
              "    }\n",
              "</style>\n",
              "<table border=\"1\" class=\"dataframe\">\n",
              "  <thead>\n",
              "    <tr style=\"text-align: right;\">\n",
              "      <th></th>\n",
              "      <th>item_id</th>\n",
              "      <th>activation_date</th>\n",
              "      <th>date_from</th>\n",
              "      <th>date_to</th>\n",
              "      <th>before_start</th>\n",
              "      <th>active_life</th>\n",
              "      <th>life_duration</th>\n",
              "    </tr>\n",
              "  </thead>\n",
              "  <tbody>\n",
              "    <tr>\n",
              "      <th>0</th>\n",
              "      <td>8f5caef7afb0</td>\n",
              "      <td>2017-02-14</td>\n",
              "      <td>2017-03-15</td>\n",
              "      <td>2017-03-16</td>\n",
              "      <td>29.0</td>\n",
              "      <td>1</td>\n",
              "      <td>30.0</td>\n",
              "    </tr>\n",
              "    <tr>\n",
              "      <th>1</th>\n",
              "      <td>66218ff526d1</td>\n",
              "      <td>2017-02-16</td>\n",
              "      <td>2017-03-15</td>\n",
              "      <td>2017-03-18</td>\n",
              "      <td>27.0</td>\n",
              "      <td>3</td>\n",
              "      <td>30.0</td>\n",
              "    </tr>\n",
              "    <tr>\n",
              "      <th>2</th>\n",
              "      <td>b237d9539b21</td>\n",
              "      <td>2017-03-01</td>\n",
              "      <td>2017-03-15</td>\n",
              "      <td>2017-03-28</td>\n",
              "      <td>14.0</td>\n",
              "      <td>13</td>\n",
              "      <td>27.0</td>\n",
              "    </tr>\n",
              "    <tr>\n",
              "      <th>3</th>\n",
              "      <td>80bf58082ad3</td>\n",
              "      <td>2017-03-19</td>\n",
              "      <td>2017-03-19</td>\n",
              "      <td>2017-03-28</td>\n",
              "      <td>0.0</td>\n",
              "      <td>9</td>\n",
              "      <td>9.0</td>\n",
              "    </tr>\n",
              "    <tr>\n",
              "      <th>4</th>\n",
              "      <td>67a9944a7373</td>\n",
              "      <td>2017-03-14</td>\n",
              "      <td>2017-03-15</td>\n",
              "      <td>2017-03-28</td>\n",
              "      <td>1.0</td>\n",
              "      <td>13</td>\n",
              "      <td>14.0</td>\n",
              "    </tr>\n",
              "  </tbody>\n",
              "</table>\n",
              "</div>\n",
              "      <button class=\"colab-df-convert\" onclick=\"convertToInteractive('df-73d3707b-0ea3-46b3-8f77-2da762a2b967')\"\n",
              "              title=\"Convert this dataframe to an interactive table.\"\n",
              "              style=\"display:none;\">\n",
              "        \n",
              "  <svg xmlns=\"http://www.w3.org/2000/svg\" height=\"24px\"viewBox=\"0 0 24 24\"\n",
              "       width=\"24px\">\n",
              "    <path d=\"M0 0h24v24H0V0z\" fill=\"none\"/>\n",
              "    <path d=\"M18.56 5.44l.94 2.06.94-2.06 2.06-.94-2.06-.94-.94-2.06-.94 2.06-2.06.94zm-11 1L8.5 8.5l.94-2.06 2.06-.94-2.06-.94L8.5 2.5l-.94 2.06-2.06.94zm10 10l.94 2.06.94-2.06 2.06-.94-2.06-.94-.94-2.06-.94 2.06-2.06.94z\"/><path d=\"M17.41 7.96l-1.37-1.37c-.4-.4-.92-.59-1.43-.59-.52 0-1.04.2-1.43.59L10.3 9.45l-7.72 7.72c-.78.78-.78 2.05 0 2.83L4 21.41c.39.39.9.59 1.41.59.51 0 1.02-.2 1.41-.59l7.78-7.78 2.81-2.81c.8-.78.8-2.07 0-2.86zM5.41 20L4 18.59l7.72-7.72 1.47 1.35L5.41 20z\"/>\n",
              "  </svg>\n",
              "      </button>\n",
              "      \n",
              "  <style>\n",
              "    .colab-df-container {\n",
              "      display:flex;\n",
              "      flex-wrap:wrap;\n",
              "      gap: 12px;\n",
              "    }\n",
              "\n",
              "    .colab-df-convert {\n",
              "      background-color: #E8F0FE;\n",
              "      border: none;\n",
              "      border-radius: 50%;\n",
              "      cursor: pointer;\n",
              "      display: none;\n",
              "      fill: #1967D2;\n",
              "      height: 32px;\n",
              "      padding: 0 0 0 0;\n",
              "      width: 32px;\n",
              "    }\n",
              "\n",
              "    .colab-df-convert:hover {\n",
              "      background-color: #E2EBFA;\n",
              "      box-shadow: 0px 1px 2px rgba(60, 64, 67, 0.3), 0px 1px 3px 1px rgba(60, 64, 67, 0.15);\n",
              "      fill: #174EA6;\n",
              "    }\n",
              "\n",
              "    [theme=dark] .colab-df-convert {\n",
              "      background-color: #3B4455;\n",
              "      fill: #D2E3FC;\n",
              "    }\n",
              "\n",
              "    [theme=dark] .colab-df-convert:hover {\n",
              "      background-color: #434B5C;\n",
              "      box-shadow: 0px 1px 3px 1px rgba(0, 0, 0, 0.15);\n",
              "      filter: drop-shadow(0px 1px 2px rgba(0, 0, 0, 0.3));\n",
              "      fill: #FFFFFF;\n",
              "    }\n",
              "  </style>\n",
              "\n",
              "      <script>\n",
              "        const buttonEl =\n",
              "          document.querySelector('#df-73d3707b-0ea3-46b3-8f77-2da762a2b967 button.colab-df-convert');\n",
              "        buttonEl.style.display =\n",
              "          google.colab.kernel.accessAllowed ? 'block' : 'none';\n",
              "\n",
              "        async function convertToInteractive(key) {\n",
              "          const element = document.querySelector('#df-73d3707b-0ea3-46b3-8f77-2da762a2b967');\n",
              "          const dataTable =\n",
              "            await google.colab.kernel.invokeFunction('convertToInteractive',\n",
              "                                                     [key], {});\n",
              "          if (!dataTable) return;\n",
              "\n",
              "          const docLinkHtml = 'Like what you see? Visit the ' +\n",
              "            '<a target=\"_blank\" href=https://colab.research.google.com/notebooks/data_table.ipynb>data table notebook</a>'\n",
              "            + ' to learn more about interactive tables.';\n",
              "          element.innerHTML = '';\n",
              "          dataTable['output_type'] = 'display_data';\n",
              "          await google.colab.output.renderOutput(dataTable, element);\n",
              "          const docLink = document.createElement('div');\n",
              "          docLink.innerHTML = docLinkHtml;\n",
              "          element.appendChild(docLink);\n",
              "        }\n",
              "      </script>\n",
              "    </div>\n",
              "  </div>\n",
              "  "
            ]
          },
          "metadata": {},
          "execution_count": 56
        }
      ]
    },
    {
      "cell_type": "code",
      "source": [
        ""
      ],
      "metadata": {
        "id": "kTY0zuBoQ2EY"
      },
      "execution_count": null,
      "outputs": []
    }
  ],
  "metadata": {
    "kernelspec": {
      "display_name": "Python 3 (ipykernel)",
      "language": "python",
      "name": "python3"
    },
    "language_info": {
      "codemirror_mode": {
        "name": "ipython",
        "version": 3
      },
      "file_extension": ".py",
      "mimetype": "text/x-python",
      "name": "python",
      "nbconvert_exporter": "python",
      "pygments_lexer": "ipython3",
      "version": "3.9.2"
    },
    "colab": {
      "name": "HW_03-Copy1.ipynb",
      "provenance": [],
      "collapsed_sections": []
    }
  },
  "nbformat": 4,
  "nbformat_minor": 0
}